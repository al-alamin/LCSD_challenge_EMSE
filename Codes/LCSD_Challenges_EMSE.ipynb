{
  "cells": [
    {
      "cell_type": "markdown",
      "metadata": {
        "id": "rTKvoFXUk3FN"
      },
      "source": [
        "## Startup codes\n"
      ]
    },
    {
      "cell_type": "markdown",
      "metadata": {
        "id": "6Ex-M-kukB_8"
      },
      "source": [
        "### Imports"
      ]
    },
    {
      "cell_type": "code",
      "execution_count": null,
      "metadata": {
        "colab": {
          "base_uri": "https://localhost:8080/"
        },
        "id": "kLG28lX8RIq9",
        "outputId": "57053ae8-d072-4f54-8d2d-1d379ba6339d"
      },
      "outputs": [],
      "source": [
        "%load_ext autotime\n",
        "import warnings\n",
        "warnings.filterwarnings('always')\n",
        "warnings.simplefilter('always')\n",
        "import warnings\n",
        "warnings.simplefilter(action='ignore', category=FutureWarning)\n",
        "warnings.simplefilter(action='ignore', category=DeprecationWarning)\n",
        "warnings.filterwarnings(\"ignore\", category=DeprecationWarning)\n",
        "warnings.filterwarnings(\"ignore\", message=\"numpy.dtype size changed\")\n",
        "warnings.filterwarnings(\"ignore\", message=\"numpy.ufunc size changed\")\n",
        "import glob, os, sys\n",
        "# import matplotlib.pylab as plt\n",
        "# from matplotlib import pyplot\n",
        "import numpy as np\n",
        "from sklearn.model_selection import StratifiedKFold\n",
        "import tensorflow as tf\n",
        "print(tf.__version__)\n",
        "import pandas as pd\n",
        "pd.options.mode.chained_assignment = None\n",
        "import csv\n",
        "import xml.etree.ElementTree as ET\n",
        "import pickle\n",
        "import math\n",
        "import matplotlib.pyplot as plt\n",
        "%config Completer.use_jedi = False\n",
        "from importlib import reload\n"
      ]
    },
    {
      "cell_type": "markdown",
      "metadata": {},
      "source": [
        "### Utility methods"
      ]
    },
    {
      "cell_type": "code",
      "execution_count": null,
      "metadata": {
        "colab": {
          "base_uri": "https://localhost:8080/"
        },
        "id": "NCFF6nHC9TzM",
        "outputId": "9d7df00c-9f5c-4bf8-b59d-afb5b6987d4b"
      },
      "outputs": [],
      "source": [
        "def save_obj(obj, name ):\n",
        "    with open('pickle/'+ name + '.pkl', 'wb') as f:\n",
        "        pickle.dump(obj, f, pickle.HIGHEST_PROTOCOL)\n",
        "    print(\"Saved object to a file: %s\" % (str(f)))\n",
        "\n",
        "def load_obj(name ):\n",
        "    with open('pickle/' + name + '.pkl', 'rb') as f:\n",
        "        return pickle.load(f)\n",
        "\n",
        "def save_df(df, file_name):\n",
        "    df.to_csv(file_name, index=False, quotechar='\"', quoting=csv.QUOTE_NONNUMERIC)\n",
        "\n",
        "import re\n",
        "def get_tags(tags_str):\n",
        "    return re.findall(r'<(.+?)>', tags_str)\n",
        "\n",
        "\n",
        "\n",
        "def make_link(id, type):\n",
        "    '''\n",
        "    id = postid\n",
        "    type : 'q' for question\n",
        "           'a' for answer\n",
        "    '''\n",
        "    url = f'https://stackoverflow.com/{type}/{id}'\n",
        "    return f'=HYPERLINK(\"{url}\", \"{id}\")'\n",
        "\n",
        "\n",
        "def linkToId(x):\n",
        "    '''\n",
        "    Takes a excel styled link and retures the QuestionID\n",
        "    '''\n",
        "    return int(x.split('\"')[::-1][1])\n",
        "\n",
        "COLS = [\"Id\", \"PostTypeId\", \"AcceptedAnswerId\", \"ParentId\", \"CreationDate\", \"DeletionDate\", \"Score\", \"ViewCount\", \"Body\",\n",
        "        \"OwnerUserId\", \"OwnerDisplayName\", \"LastEditorUserId\", \"LastEditorDisplayName\", \"LastEditDate\", \"LastActivityDate\",\n",
        "        \"Title\", \"Tags\", \"AnswerCount\", \"CommentCount\", \"FavoriteCount\", \"ClosedDate\", \"CommunityOwnedDate\", \"ContentLicense\"]\n",
        "\n",
        "ROOT_DIR = '/'"
      ]
    },
    {
      "cell_type": "markdown",
      "metadata": {
        "id": "HB9FAjcAmdcn"
      },
      "source": [
        "## Dataset filtering"
      ]
    },
    {
      "cell_type": "markdown",
      "metadata": {
        "id": "4vYOmSeg6QAW"
      },
      "source": [
        "#### Bootstrap"
      ]
    },
    {
      "cell_type": "code",
      "execution_count": null,
      "metadata": {
        "colab": {
          "base_uri": "https://localhost:8080/"
        },
        "id": "KDy97QW9W_VY",
        "outputId": "f62ac00b-2ef3-4d22-ddd1-d5e85eb377fa"
      },
      "outputs": [],
      "source": [
        "TAG_list_initial_file = os.path.join( ROOT_DIR, \"Data\", \"tag_list_initial.csv\")\n",
        "TAG_list_final_file = os.path.join( ROOT_DIR, \"Data\", \"tag_list_final.csv\")\n",
        "QUESTIONS_initial_tag_file = os.path.join(ROOT_DIR, \"Data\", \"questions_initial_tag.csv\")\n",
        "QUESTIONS_final_tag_file = os.path.join(ROOT_DIR, \"Data\", \"questions_final_tag.csv\")\n",
        "QUESTIONS_nss_final_tag_file = os.path.join(ROOT_DIR, \"Data\", \"questions_nss_final_tag.csv\")\n",
        "ANSWERS_nss_final_tag_file = os.path.join(ROOT_DIR, \"Data\", \"answers_nss_final_tag.csv\")\n",
        "TAG_manual_relevance_file = os.path.join( ROOT_DIR, \"Data\", \"tag_manual_relevance.csv\")"
      ]
    },
    {
      "cell_type": "code",
      "execution_count": null,
      "metadata": {
        "colab": {
          "base_uri": "https://localhost:8080/"
        },
        "id": "G15QyRdxswNr",
        "outputId": "2cbe92cd-1020-4d9e-d91a-a80e6424fa8d"
      },
      "outputs": [],
      "source": [
        "Tag_list_initial = None\n",
        "df_questions_initial_tag = None\n",
        "Tag_stat_Q_initial = {}\n",
        "Tag_stat_Q_all = {}\n",
        "\n",
        "Significance_tag = {}\n",
        "Relevance_tag = {}\n",
        "\n",
        "Tag_stat_manual_relevance = []\n",
        "DF_tag_stat_summary = None\n",
        "Tag_list_relevent = []\n",
        "Tag_list_final = []\n",
        "DF_question_final_tag = None\n",
        "DF_answer_final_tag = None\n",
        "DF_tag_stat_summary = None\n",
        "DF_question_nss_final_tag = None\n",
        "DF_answer_nss_final_tag = None"
      ]
    },
    {
      "cell_type": "markdown",
      "metadata": {
        "id": "Rt4P94GE54Uj"
      },
      "source": [
        "##### Load all variables"
      ]
    },
    {
      "cell_type": "code",
      "execution_count": null,
      "metadata": {
        "colab": {
          "base_uri": "https://localhost:8080/"
        },
        "id": "TZtUkTvd5ipI",
        "outputId": "dc6a9096-0bee-47f8-bdc0-f43da22b122c"
      },
      "outputs": [],
      "source": [
        "Tag_list_initial = load_obj(\"Tag_list_initial\")\n",
        "df_questions_initial_tag = load_obj(\"df_questions_initial_tag\")\n",
        "Tag_stat_Q_initial = load_obj(\"Tag_stat_Q_initial\")\n",
        "Tag_stat_Q_all = load_obj(\"Tag_stat_Q_all\")\n",
        "Significance_tag = load_obj(\"Significance_tag\")\n",
        "Relevance_tag = load_obj(\"Relevance_tag\")\n",
        "Tag_stat_manual_relevance = load_obj(\"Tag_stat_manual_relevance\")\n",
        "Tag_list_final = load_obj(\"Tag_list_final\")\n",
        "DF_question_final_tag = load_obj(\"DF_question_final_tag\")\n",
        "DF_answer_final_tag = load_obj(\"DF_answer_final_tag\")\n",
        "DF_question_nss_final_tag = load_obj(\"DF_question_nss_final_tag\")\n",
        "DF_answer_nss_final_tag = load_obj(\"DF_answer_nss_final_tag\")\n",
        "Map_tag_qids = load_obj(\"Map_tag_qids\")\n",
        "# DF_answer_final_tag = load_obj(\"DF_answer_final_tag\")\n",
        "# DF_question_nss_final_tag = load_obj(\"DF_question_nss_final_tag\")\n",
        "# DF_answer_nss_final_tag = load_obj(\"DF_answer_nss_final_tag\")\n",
        "\n",
        "\n",
        "print(len(Tag_list_initial))\n",
        "print(len(df_questions_initial_tag))\n",
        "print(len(Tag_stat_Q_initial))\n",
        "print(len(Tag_stat_Q_all))\n",
        "print(len(Significance_tag))\n",
        "print(len(Relevance_tag))\n",
        "print(len(Tag_stat_manual_relevance))\n",
        "print(len(Tag_list_final))\n",
        "print(len(DF_question_final_tag))\n",
        "print(len(DF_answer_final_tag))\n",
        "print(len(DF_question_nss_final_tag))\n",
        "print(len(DF_answer_nss_final_tag))\n",
        "# print(len(DF_answer_final_tag))\n",
        "# print(len(DF_question_nss_final_tag))\n",
        "# print(len(DF_answer_nss_final_tag))"
      ]
    },
    {
      "cell_type": "markdown",
      "metadata": {
        "id": "nDKPfV56RjeP"
      },
      "source": [
        "##### Helper methods"
      ]
    },
    {
      "cell_type": "code",
      "execution_count": null,
      "metadata": {
        "colab": {
          "base_uri": "https://localhost:8080/"
        },
        "id": "xVz0ThylRnO3",
        "outputId": "21fc1650-622c-4ddf-acac-c2d532c977da"
      },
      "outputs": [],
      "source": [
        "def get_initial_taglist(input_file):\n",
        "    df_initial_tag_list = pd.read_csv(input_file)\n",
        "    df_initial_tag_list = df_initial_tag_list['Tag'].dropna()\n",
        "    initial_tag_list = df_initial_tag_list.tolist()\n",
        "    return initial_tag_list\n",
        "\n",
        "import lxml.etree  as ET\n",
        "def get_questions_from_tags(POSTS_file, TAGS):\n",
        "    context = ET.iterparse(POSTS_file, events=(\"end\",))\n",
        "    print(\"Going to extract questions\")\n",
        "    df_posts = pd.DataFrame(columns = COLS)\n",
        "    total_questions = 0\n",
        "    count = 0\n",
        "    _, root = next(context)\n",
        "    for event, elem in context:\n",
        "        # if (count > 5):\n",
        "        #     break\n",
        "        if elem.tag == \"row\":\n",
        "            tags = elem.attrib.get('Tags', '')\n",
        "            tags_list = get_tags(tags) # list of tags\n",
        "            for tag in TAGS:\n",
        "                if tag in tags_list:\n",
        "                    dic = {}\n",
        "                    for col in COLS:\n",
        "                        dic[col] = elem.attrib.get(col, '')\n",
        "                        # data.append(elem.attrib.get(col, ''))\n",
        "                    df_posts = df_posts.append(pd.Series(dic), ignore_index = True)    \n",
        "                    continue\n",
        "            # progress\n",
        "            if total_questions % 1000000 == 0:\n",
        "                print('done', elem.attrib['Id'])\n",
        "            elem.clear()\n",
        "            root.clear()\n",
        "            total_questions += 1\n",
        "            # count += 1\n",
        "    df_posts.drop_duplicates('Id',inplace=True)\n",
        "    return df_posts"
      ]
    },
    {
      "cell_type": "markdown",
      "metadata": {
        "id": "cHGybFuhTdJq"
      },
      "source": [
        "### Extract Initial analysis"
      ]
    },
    {
      "cell_type": "markdown",
      "metadata": {
        "id": "WGVnQm13Q2uu"
      },
      "source": [
        "#### Get Initial taglist"
      ]
    },
    {
      "cell_type": "code",
      "execution_count": null,
      "metadata": {
        "colab": {
          "base_uri": "https://localhost:8080/"
        },
        "id": "J94yWPaSmxdy",
        "outputId": "3995667c-6ce6-470f-ac4a-7525438dac54"
      },
      "outputs": [],
      "source": [
        "Tag_list_initial = get_initial_taglist(TAG_list_initial_file)\n",
        "print(len(Tag_list_initial))\n",
        "print(Tag_list_initial)"
      ]
    },
    {
      "cell_type": "code",
      "execution_count": null,
      "metadata": {
        "colab": {
          "base_uri": "https://localhost:8080/"
        },
        "id": "AMWdgSWp5xNV",
        "outputId": "b3ff3e31-5ceb-4cde-8a70-448b6fc02005"
      },
      "outputs": [],
      "source": [
        "save_obj(Tag_list_initial, \"Tag_list_initial\")"
      ]
    },
    {
      "cell_type": "markdown",
      "metadata": {
        "id": "E-yiiFR5RYWH"
      },
      "source": [
        "#### Extract Initial Qestions"
      ]
    },
    {
      "cell_type": "code",
      "execution_count": null,
      "metadata": {
        "id": "W9jSGRMORXlT"
      },
      "outputs": [],
      "source": [
        "df_questions_initial_tag = get_questions_from_tags(POSTS_file, Tag_list_initial)"
      ]
    },
    {
      "cell_type": "code",
      "execution_count": null,
      "metadata": {
        "colab": {
          "base_uri": "https://localhost:8080/"
        },
        "id": "En5bJuiXQr_r",
        "outputId": "741f149b-1a45-4daa-aefd-b6f812c5554f"
      },
      "outputs": [],
      "source": [
        "print(len(df_questions_initial_tag))\n",
        "df_questions_initial_tag.drop_duplicates('Id', inplace=True)\n",
        "print(len(df_questions_initial_tag))"
      ]
    },
    {
      "cell_type": "code",
      "execution_count": null,
      "metadata": {
        "colab": {
          "base_uri": "https://localhost:8080/"
        },
        "id": "jBtacFhgWT6C",
        "outputId": "de6aa3f9-5a18-402f-cc37-3f3caf3a7b01"
      },
      "outputs": [],
      "source": [
        "print(len(df_questions_initial_tag))\n",
        "output_file = os.path.join(ROOT_dir, \"output\", \"questions_initial_tag.csv\")\n",
        "df_questions_initial_tag.to_csv(output_file, index=False, quotechar='\"', quoting=csv.QUOTE_NONNUMERIC)\n",
        "print(\"Check the output file and then move it to dataset folder\")\n",
        "save_obj(df_questions_initial_tag, \"df_questions_initial_tag\")"
      ]
    },
    {
      "cell_type": "markdown",
      "metadata": {
        "id": "2pgwBZIKWpJW"
      },
      "source": [
        "### Significance and Relevance"
      ]
    },
    {
      "cell_type": "markdown",
      "metadata": {
        "id": "jXvOIBraXbOo"
      },
      "source": [
        "#### Tag stat selected question"
      ]
    },
    {
      "cell_type": "code",
      "execution_count": null,
      "metadata": {
        "colab": {
          "base_uri": "https://localhost:8080/"
        },
        "id": "2asXK71SXz85",
        "outputId": "90484f75-3f86-4088-8ae5-50f6fd07f524"
      },
      "outputs": [],
      "source": [
        "def get_tags_stat(df_questions):\n",
        "    tags_stat = {}\n",
        "    for index, row in df_questions.iterrows():\n",
        "        tags = get_tags(row['Tags'])\n",
        "        for tag in tags:\n",
        "            tags_stat[tag] = tags_stat.get(tag, 0) + 1\n",
        "    return tags_stat\n",
        "Tag_stat_Q_initial = get_tags_stat(df_questions_initial_tag)\n",
        "print(len(Tag_stat_Q_initial))"
      ]
    },
    {
      "cell_type": "code",
      "execution_count": null,
      "metadata": {
        "colab": {
          "base_uri": "https://localhost:8080/"
        },
        "id": "RgRKmKK7bplJ",
        "outputId": "aa02e3b3-e127-45fd-afef-d6af287dd111"
      },
      "outputs": [],
      "source": [
        "save_obj(Tag_stat_Q_initial, \"Tag_stat_Q_initial\")\n",
        "# Tag_stat_Q_initial = load_obj(\"Tag_stat_Q_initial\")\n",
        "print(len(Tag_stat_Q_initial))"
      ]
    },
    {
      "cell_type": "markdown",
      "metadata": {
        "id": "aDvUNJLS0dFv"
      },
      "source": [
        "#### Tag stat all questions"
      ]
    },
    {
      "cell_type": "code",
      "execution_count": null,
      "metadata": {
        "id": "gf72_O05efSq"
      },
      "outputs": [],
      "source": [
        "def tag_stat_all_questions(selected_tag_list):\n",
        "    tags_stat = {}\n",
        "    context = ET.iterparse(POSTS_file, events=(\"end\",))\n",
        "    print(\"Going to extract all tags stat from questions\")\n",
        "    # df_posts = pd.DataFrame(columns = COLS)\n",
        "    total_questions = 0\n",
        "    _, root = next(context)\n",
        "    for event, elem in context:\n",
        "        if elem.tag == \"row\":\n",
        "            post_tags = elem.attrib.get('Tags', '')\n",
        "            post_tags_list = get_tags(post_tags) # list of tags\n",
        "            for tag in post_tags_list:\n",
        "                if tag in selected_tag_list:\n",
        "                    tags_stat[tag] = tags_stat.get(tag, 0) + 1\n",
        "\n",
        "            # progress\n",
        "            if total_questions % 1000000 == 0:\n",
        "                print('done', elem.attrib['Id'])\n",
        "            elem.clear()\n",
        "            root.clear()\n",
        "            total_questions += 1\n",
        "            # count += 1\n",
        "    # print(len(all_tags_in_Q_all))\n",
        "    return tags_stat\n",
        "Tag_stat_Q_all = tag_stat_all_questions(Tag_stat_Q_initial)"
      ]
    },
    {
      "cell_type": "code",
      "execution_count": null,
      "metadata": {
        "colab": {
          "base_uri": "https://localhost:8080/"
        },
        "id": "L1bClBHHuzmB",
        "outputId": "e99eeb94-6bb9-4895-abeb-9c31ded4af07"
      },
      "outputs": [],
      "source": [
        "# save_obj(Tag_stat_Q_all, \"Tag_stat_Q_all\")\n",
        "Tag_stat_Q_all = load_obj(\"Tag_stat_Q_all\")\n",
        "print(len(Tag_stat_Q_all))\n",
        "\n",
        "# Tag_stat_Q_all = load_obj(\"all_tags_in_Q_all_stat\")\n",
        "# save_obj(all_tags_in_Q_all, \"all_tags_in_Q_all_stat\")\n",
        "# # all_tags_in_Q_all = load_obj(\"all_tags_in_Q_all\")"
      ]
    },
    {
      "cell_type": "markdown",
      "metadata": {
        "id": "oMV3BbeCW1hL"
      },
      "source": [
        "#### Calculate Significance relevance"
      ]
    },
    {
      "cell_type": "code",
      "execution_count": null,
      "metadata": {
        "colab": {
          "base_uri": "https://localhost:8080/"
        },
        "id": "Fqfc1Rl9W5Kn",
        "outputId": "96bc327c-a5e4-4f26-aca8-53450cf43d92"
      },
      "outputs": [],
      "source": [
        "for tag in Tag_stat_Q_initial:\n",
        "    if tag in Tag_list_initial:\n",
        "        continue\n",
        "    sig = Tag_stat_Q_initial[tag] * 1.0 / Tag_stat_Q_all[tag]\n",
        "    rel = Tag_stat_Q_initial[tag] * 1.0 / len(df_questions_initial_tag)\n",
        "    Significance_tag[tag] = sig\n",
        "    Relevance_tag[tag] = rel"
      ]
    },
    {
      "cell_type": "code",
      "execution_count": null,
      "metadata": {
        "id": "Al6xv5OqXCxf"
      },
      "outputs": [],
      "source": [
        "for tag in Tag_stat_Q_initial:\n",
        "    if tag in Tag_list_initial:\n",
        "        continue\n",
        "    print(\"Tag: %s sig: %f rel: %f\" % (tag, Significance_tag[tag], Relevance_tag[tag] ))"
      ]
    },
    {
      "cell_type": "code",
      "execution_count": null,
      "metadata": {
        "id": "2CYtUzpV40gz"
      },
      "outputs": [],
      "source": [
        "save_obj(Significance_tag, \"Significance_tag\")\n",
        "save_obj(Relevance_tag, \"Relevance_tag\")"
      ]
    },
    {
      "cell_type": "markdown",
      "metadata": {
        "id": "HdGeeD4r8HGD"
      },
      "source": [
        "#### Extract based on sig rel"
      ]
    },
    {
      "cell_type": "code",
      "execution_count": null,
      "metadata": {
        "colab": {
          "base_uri": "https://localhost:8080/"
        },
        "id": "Cm1kW5kcZtyO",
        "outputId": "6299576c-f1d1-4ae5-812d-6a143451e55f"
      },
      "outputs": [],
      "source": [
        "def get_tag_with_higher_sig_and_rel(sig, rel, sig_map, rel_map):\n",
        "    assert len(sig_map) == len(rel_map)\n",
        "    results = []\n",
        "    for tag in sig_map:\n",
        "        if(sig_map[tag] >= sig and rel_map[tag] >= rel):\n",
        "            results.append(tag)\n",
        "    return results\n",
        "\n",
        "def get_intersection_info(list_big, list_ref):\n",
        "    list_ref = set(list_ref)\n",
        "    count = 0\n",
        "    for item in list_big:\n",
        "        if item in list_ref:\n",
        "            count += 1\n",
        "    pct = round(count * 100.0 / len(list_big), 1)\n",
        "    return count, pct"
      ]
    },
    {
      "cell_type": "code",
      "execution_count": null,
      "metadata": {
        "colab": {
          "base_uri": "https://localhost:8080/"
        },
        "id": "uDiWvTp6K23x",
        "outputId": "c9a4fa70-79c5-4f98-c816-4614a773af39"
      },
      "outputs": [],
      "source": [
        "tags_with_lowest_sig_rel = get_tag_with_higher_sig_and_rel(.05, .001, Significance_tag, Relevance_tag)\n",
        "print(len(tags_with_lowest_sig_rel))"
      ]
    },
    {
      "cell_type": "code",
      "execution_count": null,
      "metadata": {
        "colab": {
          "base_uri": "https://localhost:8080/"
        },
        "id": "edw2uvLT9ULm",
        "outputId": "98354cc4-e44e-461c-c56f-7b7079137141"
      },
      "outputs": [],
      "source": [
        "tmp_sigs = []\n",
        "tmp_rel = []\n",
        "tmp_posts = []\n",
        "for tag in tags_with_lowest_sig_rel:\n",
        "    tmp_sigs.append(Significance_tag[tag])\n",
        "    tmp_rel.append(Relevance_tag[tag])\n",
        "    tmp_posts.append(Tag_stat_Q_all[tag])\n",
        "df_tag_recommend = pd.DataFrame()\n",
        "df_tag_recommend['sig'] = tmp_sigs\n",
        "df_tag_recommend['tag'] = tags_with_lowest_sig_rel\n",
        "df_tag_recommend['rel'] = tmp_rel\n",
        "df_tag_recommend['posts'] = tmp_posts\n",
        "output_file = os.path.join(\"tags\", \"tags_recommended_stat.csv\")\n",
        "df_tag_recommend.to_csv(output_file, index=False)"
      ]
    },
    {
      "cell_type": "code",
      "execution_count": null,
      "metadata": {
        "colab": {
          "base_uri": "https://localhost:8080/"
        },
        "id": "fiBTFd2Ubu5v",
        "outputId": "a4acf3aa-e195-4220-ef28-6e41c83a0e83"
      },
      "outputs": [],
      "source": [
        "df_Tag_stat_manual_relevance = pd.read_csv(TAG_manual_relevance_file)\n",
        "print(len(df_Tag_stat_manual_relevance))\n",
        "df_Tag_stat_manual_relevance = df_Tag_stat_manual_relevance[df_Tag_stat_manual_relevance['isrelavent'] == True]\n",
        "print(len(df_Tag_stat_manual_relevance))\n",
        "Tag_stat_manual_relevance = df_Tag_stat_manual_relevance['tags'].tolist()\n",
        "# print(Tag_stat_manual_relevance)\n",
        "temp = []\n",
        "for tag in Tag_stat_manual_relevance:\n",
        "    tag = tag[1:-1]\n",
        "    temp.append(tag)\n",
        "Tag_stat_manual_relevance = temp\n",
        "print(Tag_stat_manual_relevance)"
      ]
    },
    {
      "cell_type": "code",
      "execution_count": null,
      "metadata": {
        "colab": {
          "base_uri": "https://localhost:8080/"
        },
        "id": "8mEywGqb0Ald",
        "outputId": "b30919b3-a7ef-44e7-bf72-edebdc2301aa"
      },
      "outputs": [],
      "source": [
        "save_obj(Tag_stat_manual_relevance, 'Tag_stat_manual_relevance')"
      ]
    },
    {
      "cell_type": "code",
      "execution_count": null,
      "metadata": {
        "colab": {
          "base_uri": "https://localhost:8080/"
        },
        "id": "GcnGSOXrY4JX",
        "outputId": "bc4eeab8-d084-45ff-d8d3-2a220cd591b6"
      },
      "outputs": [],
      "source": [
        "# Uses global variable of Significance_tag and Relevance_tag map\n",
        "def get_tag_stat_summary(significance_values, relavance_values, Tag_stat_manual_relevance):\n",
        "    sig_res = []\n",
        "    rel_res = []\n",
        "    tags_recommended = []\n",
        "    tags_recommended_count = []\n",
        "    tags_relevant = []\n",
        "    tags_relavant_pct = []\n",
        "    for rel in relavance_values:\n",
        "        for sig in significance_values:\n",
        "            reco_tags = get_tag_with_higher_sig_and_rel(sig, rel, Significance_tag, Relevance_tag)\n",
        "            rel_tags_count, rel_pct = get_intersection_info(reco_tags, Tag_stat_manual_relevance)\n",
        "            # df = pd.DataFrame()\n",
        "            # df['tags'] = selected_tags\n",
        "            # file_name = \"Sig_%.3f_Rel_%.3f.csv\" % (sig, rel)\n",
        "            # file_name = os.path.join(\"tags\", file_name)\n",
        "            # # print(file_name)\n",
        "            # df.to_csv(file_name, index=False)\n",
        "\n",
        "            sig_res.append(sig)\n",
        "            rel_res.append(rel)\n",
        "            tags_recommended.append(reco_tags)\n",
        "            tags_recommended_count.append(len(reco_tags))\n",
        "            tags_relevant.append(rel_tags_count)\n",
        "            tags_relavant_pct.append(rel_pct)\n",
        "            # print(\"Sig: %f Rel: %f len_tags: %d\" % (sig, rel, len(res)))\n",
        "\n",
        "    df = pd.DataFrame()\n",
        "    df[\"significance\"] = sig_res\n",
        "    df['relevance'] = rel_res\n",
        "    df['tags_recommended'] = tags_recommended\n",
        "    df['tags_relevant'] = tags_relevant\n",
        "    df['tags_relavant_pct'] = tags_relavant_pct\n",
        "    df['tags_recommended_count'] = tags_recommended_count\n",
        "    return df\n",
        "\n",
        "significance_values = [0.05, 0.10, 0.15, 0.20, 0.25, 0.30, 0.35]\n",
        "relavance_values    = [0.001, .005, .01, .015, .02, .025, .03]\n",
        "DF_tag_stat_summary = get_tag_stat_summary(significance_values, relavance_values, Tag_stat_manual_relevance)\n",
        "file_name = os.path.join(\"tags\", \"tags_stat_summary.csv\")\n",
        "DF_tag_stat_summary.to_csv(file_name, index=False)\n",
        "save_obj(DF_tag_stat_summary, 'DF_tag_stat_summary')"
      ]
    },
    {
      "cell_type": "markdown",
      "metadata": {
        "id": "jK16NVqMTOWi"
      },
      "source": [
        "### Extract final posts"
      ]
    },
    {
      "cell_type": "markdown",
      "metadata": {
        "id": "CMATt3v4IH_A"
      },
      "source": [
        "#### Final taglist\n"
      ]
    },
    {
      "cell_type": "code",
      "execution_count": null,
      "metadata": {
        "colab": {
          "base_uri": "https://localhost:8080/"
        },
        "id": "UH-n28sndH4f",
        "outputId": "e1417af2-d15b-4df7-f5d4-69e1fbb64a8a"
      },
      "outputs": [],
      "source": [
        "print(Tag_list_relevent)\n",
        "print(len(Tag_list_relevent))\n",
        "print(len(Tag_list_initial))\n",
        "\n",
        "tag_unique = set(Tag_list_relevent + Tag_list_initial)\n",
        "print(len(tag_unique))"
      ]
    },
    {
      "cell_type": "code",
      "execution_count": null,
      "metadata": {
        "id": "IF9UR3G0gkL3"
      },
      "outputs": [],
      "source": []
    },
    {
      "cell_type": "code",
      "execution_count": null,
      "metadata": {
        "id": "WwnjkTQaIK0l"
      },
      "outputs": [],
      "source": [
        "Tag_list_relevent = util.load_obj(ROOT_dir, \"Tag_stat_manual_relevance\")\n",
        "Tag_list_initial = util.load_obj(ROOT_dir, \"Tag_list_initial\")\n",
        "Tag_list_final = Tag_list_relevent + Tag_list_initial\n",
        "print(len(Tag_list_final))\n",
        "# save_obj(Tag_list_final, \"Tag_list_final\")"
      ]
    },
    {
      "cell_type": "markdown",
      "metadata": {
        "id": "fnWWzOR7TUzR"
      },
      "source": [
        "#### Final questions"
      ]
    },
    {
      "cell_type": "code",
      "execution_count": null,
      "metadata": {
        "colab": {
          "base_uri": "https://localhost:8080/"
        },
        "id": "RSRFsFlanwVm",
        "outputId": "d4f906cd-b6c4-44a4-d78f-57727ab1ffec"
      },
      "outputs": [],
      "source": [
        "DF_question_final_tag = util.load_obj(ROOT_dir, \"DF_question_final_tag\")\n",
        "print(len(DF_question_final_tag))\n",
        "\n",
        "DF_question_final_tag = util.load_obj(ROOT_dir, \"DF_question_final_tag\")"
      ]
    },
    {
      "cell_type": "code",
      "execution_count": null,
      "metadata": {
        "id": "jhF2OKUfJjcC"
      },
      "outputs": [],
      "source": [
        "DF_question_final_tag = get_questions_from_tags(POSTS_file, Tag_list_final)\n",
        "print(len(DF_question_final_tag))\n",
        "output_file = os.path.join(\"output\", \"questions_final_tag.csv\")\n",
        "DF_question_final_tag.to_csv(output_file, index=False)\n",
        "save_obj(DF_question_final_tag, \"DF_question_final_tag\")"
      ]
    },
    {
      "cell_type": "code",
      "execution_count": null,
      "metadata": {
        "id": "zkVgjOMJSVPF"
      },
      "outputs": [],
      "source": [
        "# print(len(DF_question_final_tag))\n",
        "# DF_question_final_tag.drop_duplicates('Id', inplace=True)\n",
        "# output_file = os.path.join(\"output\", \"questions_final_tag.csv\")\n",
        "# DF_question_final_tag.to_csv(output_file, index=False)\n",
        "# save_obj(DF_question_final_tag, \"DF_question_final_tag\")\n",
        "# print(len(DF_question_final_tag))"
      ]
    },
    {
      "cell_type": "code",
      "execution_count": null,
      "metadata": {
        "colab": {
          "base_uri": "https://localhost:8080/"
        },
        "id": "MpaG59oKWdvg",
        "outputId": "4f7d935b-6d33-4745-917e-961c3d58f9ef"
      },
      "outputs": [],
      "source": [
        "# print(len(DF_question_final_tag))"
      ]
    },
    {
      "cell_type": "code",
      "execution_count": null,
      "metadata": {
        "colab": {
          "base_uri": "https://localhost:8080/"
        },
        "id": "6XU_jmdHH725",
        "outputId": "c157fed9-6a5c-4947-9110-3bc22c4c4613"
      },
      "outputs": [],
      "source": [
        "DF_question_nss_final_tag = DF_question_final_tag[DF_question_final_tag['Score'].astype(int) >= 0]\n",
        "print(len(DF_question_nss_final_tag))\n",
        "save_df(DF_question_nss_final_tag, QUESTIONS_nss_final_tag_file)\n",
        "save_obj(DF_question_nss_final_tag, \"DF_question_nss_final_tag\")"
      ]
    },
    {
      "cell_type": "markdown",
      "metadata": {
        "id": "1l5i4BGWTXyy"
      },
      "source": [
        "#### Final answers"
      ]
    },
    {
      "cell_type": "code",
      "execution_count": null,
      "metadata": {
        "id": "BLsAaq--YwIn"
      },
      "outputs": [],
      "source": [
        "def get_answers_from_questions(question_ids):\n",
        "    question_ids = set(question_ids)\n",
        "    context = ET.iterparse(POSTS_file, events=(\"end\",))\n",
        "    print(\"Going to extract answers\")\n",
        "    df_answers = pd.DataFrame(columns = COLS)\n",
        "    total_answers = 0\n",
        "    count = 0\n",
        "    _, root = next(context)\n",
        "    for event, elem in context:\n",
        "        if elem.tag == \"row\":\n",
        "            post_type = int(elem.attrib.get('PostTypeId'))\n",
        "            if(post_type == 2):\n",
        "                parent_id = elem.attrib.get('ParentId')\n",
        "                if(parent_id in question_ids):\n",
        "                    dic = {}\n",
        "                    for col in COLS:\n",
        "                        dic[col] = elem.attrib.get(col, '')\n",
        "                    df_answers = df_answers.append(pd.Series(dic), ignore_index = True)    \n",
        "            # progress\n",
        "            if (int(elem.attrib['Id']) % 1000000) == 0:\n",
        "                print('done id: %s and len of res: %d' % (elem.attrib['Id'], len(df_answers)))\n",
        "            total_answers += 1\n",
        "            elem.clear()\n",
        "            root.clear()            \n",
        "    print(\"Total answers: %d\" % (total_answers))\n",
        "    return df_answers\n",
        "\n",
        "\n",
        "question_ids = DF_question_final_tag['Id'].tolist()\n",
        "print(len(question_ids))\n",
        "DF_answer_final_tag = get_answers_from_questions(question_ids)\n",
        "\n",
        "print(len(DF_answer_final_tag))\n",
        "output_file = os.path.join(\"output\", \"answers_final_tag.csv\")\n",
        "DF_answer_final_tag.to_csv(output_file, index=False)\n",
        "save_obj(DF_answer_final_tag, \"DF_answer_final_tag\")"
      ]
    },
    {
      "cell_type": "code",
      "execution_count": null,
      "metadata": {
        "colab": {
          "base_uri": "https://localhost:8080/"
        },
        "id": "K1pbtSpATEG1",
        "outputId": "c1001f24-263b-4fbf-c1d3-f017d2e178db"
      },
      "outputs": [],
      "source": [
        "print(len(DF_answer_final_tag))\n",
        "DF_answer_final_tag.drop_duplicates('Id', inplace=True)\n",
        "output_file = os.path.join(\"output\", \"answers_final_tag.csv\")\n",
        "DF_answer_final_tag.to_csv(output_file, index=False)\n",
        "save_obj(DF_answer_final_tag, \"DF_answer_final_tag\")\n",
        "print(len(DF_answer_final_tag))"
      ]
    },
    {
      "cell_type": "code",
      "execution_count": null,
      "metadata": {
        "colab": {
          "base_uri": "https://localhost:8080/"
        },
        "id": "Ma4NLcXsIeob",
        "outputId": "038ab143-c69c-4635-cf89-22d1293dfa4f"
      },
      "outputs": [],
      "source": [
        "q_ids = DF_question_nss_final_tag[\"Id\"].tolist()\n",
        "print(len(q_ids))\n",
        "print(len(DF_answer_final_tag))\n",
        "DF_answer_nss_final_tag = DF_answer_final_tag[DF_answer_final_tag['ParentId'].isin(q_ids)]\n",
        "print(len(DF_answer_nss_final_tag))\n",
        "save_df(DF_answer_nss_final_tag, ANSWERS_nss_final_tag_file)\n",
        "save_obj(DF_answer_nss_final_tag, \"DF_answer_nss_final_tag\")"
      ]
    },
    {
      "cell_type": "markdown",
      "metadata": {
        "id": "XqDLfiZUBqfW"
      },
      "source": [
        "### Tag list to Questions"
      ]
    },
    {
      "cell_type": "code",
      "execution_count": null,
      "metadata": {
        "id": "YLbKLwLaBt9b"
      },
      "outputs": [],
      "source": [
        "Map_tag_qids = {}\n",
        "for tag in Tag_list_final:\n",
        "    Map_tag_qids[tag] = []\n",
        "\n",
        "for index, row in All_Questions_df.iterrows():\n",
        "        tags = get_tags(row['Tags'])\n",
        "        for tag in tags:\n",
        "            if(tag in Tag_list_final):\n",
        "                Map_tag_qids[tag].append(int(row['Id']))\n",
        "save_obj(Map_tag_qids, \"Map_tag_qids\")\n",
        "\n",
        "total = 0\n",
        "for tag in Map_tag_qids:\n",
        "    total += len(Map_tag_qids[tag])\n",
        "    print(tag, len(Map_tag_qids[tag]))\n",
        "print(total)"
      ]
    },
    {
      "cell_type": "code",
      "execution_count": null,
      "metadata": {
        "id": "YDzENhFHNtk8"
      },
      "outputs": [],
      "source": []
    },
    {
      "cell_type": "markdown",
      "metadata": {
        "id": "QwiRrfGQNuEy"
      },
      "source": [
        "### Generate final stats on posts.xml"
      ]
    },
    {
      "cell_type": "code",
      "execution_count": null,
      "metadata": {
        "colab": {
          "base_uri": "https://localhost:8080/"
        },
        "id": "zZAKvaADBuSD",
        "outputId": "4229706e-e5b7-4eb5-ccde-7db74ffe400b"
      },
      "outputs": [],
      "source": [
        "def generate_final_stats(POSTS_file):\n",
        "    context = ET.iterparse(POSTS_file, events=(\"end\",))\n",
        "    print(\"Going to extract questions\")\n",
        "    total_posts = 0\n",
        "    total_Q = 0\n",
        "    total_A = 0\n",
        "    total_Q_with_acc = 0\n",
        "    all_post_ids = set()\n",
        "\n",
        "    _, root = next(context)\n",
        "    for event, elem in context:\n",
        "        if elem.tag == \"row\":\n",
        "            id = int(elem.attrib.get('Id'))\n",
        "            if id in all_post_ids:\n",
        "                continue\n",
        "            all_post_ids.add(id)\n",
        "            total_posts += 1\n",
        "            post_type = int(elem.attrib.get('PostTypeId'))            \n",
        "            if(post_type == 1):\n",
        "                total_Q += 1\n",
        "                acc_id = (elem.attrib.get('AcceptedAnswerId'))\n",
        "                if(acc_id is not None and len(acc_id) > 4):\n",
        "                    total_Q_with_acc += 1\n",
        "\n",
        "                \n",
        "            else:\n",
        "                total_A += 1\n",
        "            # progress\n",
        "            if total_posts % 10000000 == 0:\n",
        "                print('done', elem.attrib['Id'])\n",
        "                # break\n",
        "            elem.clear()\n",
        "            root.clear()\n",
        "\n",
        "    return total_posts, total_Q, total_A, total_Q_with_acc\n",
        "\n",
        "total_posts, total_Q, total_A, total_Q_with_acc = generate_final_stats(POSTS_file)\n",
        "\n",
        "print(total_posts, total_Q, total_A, total_Q_with_acc)"
      ]
    },
    {
      "cell_type": "markdown",
      "metadata": {
        "id": "QldpYk17FErQ"
      },
      "source": [
        "### Sanity testing"
      ]
    },
    {
      "cell_type": "code",
      "execution_count": null,
      "metadata": {
        "colab": {
          "base_uri": "https://localhost:8080/"
        },
        "id": "vU9Lq0VJnUg3",
        "outputId": "cb0d5b77-d1da-4594-ee1c-7418451bbfe0"
      },
      "outputs": [],
      "source": [
        "df = DF_question_final_tag[DF_question_final_tag['Score'].astype(int) < 0]\n",
        "print(len(df))"
      ]
    },
    {
      "cell_type": "code",
      "execution_count": null,
      "metadata": {
        "colab": {
          "base_uri": "https://localhost:8080/"
        },
        "id": "zmY6vv-hRCpD",
        "outputId": "f699b2bf-13e0-4ca6-e141-097c4ec18430"
      },
      "outputs": [],
      "source": [
        "ids = df_questions_initial_tag['Id'].tolist()\n",
        "print(len(ids))\n",
        "print(len(set(ids)))"
      ]
    },
    {
      "cell_type": "code",
      "execution_count": null,
      "metadata": {
        "id": "iUxRzsVpGo7B"
      },
      "outputs": [],
      "source": [
        "df = pd.read_csv(\"experiment/IoTPostInformation.csv\")\n",
        "print(len(df))\n",
        "print(df.head())\n",
        "ids = df['PostId'].tolist()\n",
        "print(len(ids))\n",
        "print(len(set(ids)))"
      ]
    },
    {
      "cell_type": "code",
      "execution_count": null,
      "metadata": {
        "colab": {
          "base_uri": "https://localhost:8080/"
        },
        "id": "Zu25xJmDFJMs",
        "outputId": "64e41c30-21a5-4650-ba48-64c9ad23dc8e"
      },
      "outputs": [],
      "source": [
        "# assert len(question_ids) == len(set(question_ids))\n",
        "question_ids = DF_question_final_tag['Id'].tolist()\n",
        "print(len(question_ids))\n",
        "print(len(set(question_ids)))"
      ]
    },
    {
      "cell_type": "code",
      "execution_count": null,
      "metadata": {
        "colab": {
          "base_uri": "https://localhost:8080/"
        },
        "id": "YQJ5v1yEBMgz",
        "outputId": "33208b1d-d664-46fe-cf52-4dc5d5f15c3f"
      },
      "outputs": [],
      "source": [
        "total_answers = DF_question_final_tag['AnswerCount'].astype(int).sum()\n",
        "accepted_answers = DF_question_final_tag[DF_question_final_tag['AcceptedAnswerId'].str.len() > 0]['AcceptedAnswerId'].tolist()\n",
        "# print(accepted_answers)\n",
        "print(len(accepted_answers))\n",
        "print(total_answers)\n",
        "print(len(DF_answer_final_tag))"
      ]
    },
    {
      "cell_type": "code",
      "execution_count": null,
      "metadata": {
        "colab": {
          "base_uri": "https://localhost:8080/"
        },
        "id": "XJ6rT-RWEl6j",
        "outputId": "e5389e43-22fb-49d8-c636-722303dd6b32"
      },
      "outputs": [],
      "source": [
        "print(type(question_ids[0]))"
      ]
    },
    {
      "cell_type": "markdown",
      "metadata": {
        "id": "EpMofJ6REsHU"
      },
      "source": [
        "## Topic Modelling"
      ]
    },
    {
      "cell_type": "markdown",
      "metadata": {
        "id": "pofweTsgR9Ux"
      },
      "source": [
        "### Bootstrap\n"
      ]
    },
    {
      "cell_type": "code",
      "execution_count": null,
      "metadata": {
        "colab": {
          "base_uri": "https://localhost:8080/"
        },
        "id": "EeepMhchj86Z",
        "outputId": "69bb4e78-bbef-48b8-9d4d-fe55a9c4163e"
      },
      "outputs": [],
      "source": [
        "import string\n",
        "import gensim\n",
        "import unicodedata\n",
        "from gensim import corpora\n",
        "from nltk.corpus import stopwords\n",
        "from nltk.tokenize import sent_tokenize, word_tokenize\n",
        "from nltk.stem import WordNetLemmatizer\n",
        "from nltk.stem.porter import *\n",
        "from gensim.models.wrappers import LdaMallet\n",
        "from gensim.models import CoherenceModel\n",
        "import pyLDAvis.gensim\n",
        "import pyLDAvis\n",
        "import json\n",
        "import html\n",
        "import warnings\n",
        "from tqdm import tqdm\n",
        "import matplotlib.pyplot as plt\n",
        "warnings.filterwarnings('ignore')"
      ]
    },
    {
      "cell_type": "code",
      "execution_count": null,
      "metadata": {
        "colab": {
          "base_uri": "https://localhost:8080/"
        },
        "id": "SCcOVdMQkHii",
        "outputId": "752568ce-53c1-42ae-fd24-cb5ec160054b"
      },
      "outputs": [],
      "source": [
        "stemmer = PorterStemmer()\n",
        "pyLDAvis.enable_notebook()\n",
        "# os.environ.update({'MALLET_HOME':'./Mallet'}) \n",
        "# mallet_path = './Mallet/bin/mallet'\n",
        "os.environ.update({'MALLET_HOME': r\"C:\\Mallet\"})\n",
        "mallet_path = r'C:\\Mallet\\bin\\mallet'  # update this path\n",
        "current_dir = os.getcwd()\n",
        "coherence_scores = []\n",
        "\n",
        "# ldamallet = gensim.models.wrappers.LdaMallet(mallet_path, corpus=corpus, num_topics=5, id2word=dictionary, alpha=5)\n",
        "\n"
      ]
    },
    {
      "cell_type": "code",
      "execution_count": null,
      "metadata": {
        "colab": {
          "base_uri": "https://localhost:8080/"
        },
        "id": "v-BBCleKkyIv",
        "outputId": "fa2757d7-cb11-4971-c889-d0983fcbcd95"
      },
      "outputs": [],
      "source": [
        "def create_dir(parent_dir, dir_name):\n",
        "    temp = os.path.join(parent_dir,dir_name)\n",
        "    try:  \n",
        "        os.mkdir(temp)  \n",
        "    except OSError as error:  \n",
        "        print(error)\n",
        "    return temp"
      ]
    },
    {
      "cell_type": "markdown",
      "metadata": {
        "id": "soO624mdkQMI"
      },
      "source": [
        "#### Variable initializations"
      ]
    },
    {
      "cell_type": "code",
      "execution_count": null,
      "metadata": {
        "colab": {
          "base_uri": "https://localhost:8080/"
        },
        "id": "yLZmGSSmR_jV",
        "outputId": "382b595c-5f77-4119-de06-57d8e55d2469"
      },
      "outputs": [],
      "source": [
        "DF_question_nss_final_tag = load_obj(\"DF_question_nss_final_tag\")\n",
        "DF_answer_nss_final_tag = load_obj(\"DF_answer_nss_final_tag\")\n",
        "DF_accepted_answer_nss_final_tag = None\n",
        "TM_data_file = os.path.join(\"output\", \"topicModeling\", \"TM_data.csv\")\n",
        "TM_data_processed_file = os.path.join(\"output\", \"topicModeling\", \"TM_data_processed.csv\")\n"
      ]
    },
    {
      "cell_type": "code",
      "execution_count": null,
      "metadata": {
        "colab": {
          "base_uri": "https://localhost:8080/"
        },
        "id": "mAOC83b-ow2m",
        "outputId": "72a96c04-8f40-41e0-c2bc-7063f5ac4975"
      },
      "outputs": [],
      "source": []
    },
    {
      "cell_type": "markdown",
      "metadata": {
        "id": "Q4J7B_j0RxyL"
      },
      "source": [
        "### Preprocess the posts"
      ]
    },
    {
      "cell_type": "code",
      "execution_count": null,
      "metadata": {
        "colab": {
          "base_uri": "https://localhost:8080/"
        },
        "id": "TXUW-cskj480",
        "outputId": "b344621b-d288-4e51-949a-3887a8c53cd9"
      },
      "outputs": [],
      "source": [
        "accepted_answers_ids = DF_question_nss_final_tag[DF_question_nss_final_tag['AcceptedAnswerId'].str.len() > 0]['AcceptedAnswerId'].tolist()\n",
        "print(len(accepted_answers_ids))\n",
        "DF_accepted_answer_nss_final_tag = DF_answer_nss_final_tag[DF_answer_nss_final_tag['Id'].isin(accepted_answers_ids)]\n",
        "print(len(DF_accepted_answer_nss_final_tag))"
      ]
    },
    {
      "cell_type": "code",
      "execution_count": null,
      "metadata": {
        "colab": {
          "base_uri": "https://localhost:8080/"
        },
        "id": "iTikx0U3lDhm",
        "outputId": "294824d6-0d5b-4bc4-8e63-01270a5eedb9"
      },
      "outputs": [],
      "source": [
        "answers_df = DF_accepted_answer_nss_final_tag.copy()\n",
        "answers_df = answers_df[['Id', 'Body']]\n",
        "answers_df = answers_df.dropna()\n",
        "answers_df.columns = ['Id', 'raw_data']\n",
        "answers_df.insert(1, 'qa', 'a')\n",
        "answers_df.Id = answers_df.Id.apply(np.int64)\n",
        "print(answers_df.head())\n",
        "print(len(answers_df))"
      ]
    },
    {
      "cell_type": "code",
      "execution_count": null,
      "metadata": {
        "colab": {
          "base_uri": "https://localhost:8080/"
        },
        "id": "DWHlTKxmnwl9",
        "outputId": "d44fead5-7a77-4732-e0b2-e2667eb4daed"
      },
      "outputs": [],
      "source": [
        "questions_df = DF_question_nss_final_tag.copy()\n",
        "questions_df = questions_df[['Id', 'Body', 'Title']]\n",
        "questions_df['titlePlusQuestion'] = questions_df[['Title', 'Body']].apply(lambda x: ' '.join(x), axis=1)\n",
        "questions_df = questions_df.drop(['Title', 'Body'], axis=1)\n",
        "questions_df.columns = ['Id', 'raw_data']\n",
        "questions_df.insert(1, 'qa', 'q')\n",
        "questions_df.Id = questions_df.Id.apply(np.int64)\n",
        "print(questions_df.head())\n",
        "print(len(questions_df))"
      ]
    },
    {
      "cell_type": "code",
      "execution_count": null,
      "metadata": {
        "colab": {
          "base_uri": "https://localhost:8080/"
        },
        "id": "4ytbj19xoMMp",
        "outputId": "16200a98-fe77-4d63-fe01-97f71631e8af"
      },
      "outputs": [],
      "source": [
        "df = pd.concat([questions_df,answers_df])\n",
        "print(len(df))\n",
        "# output_file = os.path.join(\"output\", \"topicModeling\", \"TM_data\")\n",
        "# df.to_csv(TM_data_file, index=False, quotechar='\"', quoting=csv.QUOTE_NONNUMERIC)\n",
        "save_df(df, TM_data_file)"
      ]
    },
    {
      "cell_type": "markdown",
      "metadata": {
        "id": "mYpEoYk6lNAD"
      },
      "source": [
        "#### Generate temporary TM file"
      ]
    },
    {
      "cell_type": "markdown",
      "metadata": {
        "id": "CCmgdOVmkbOb"
      },
      "source": [
        "#### Process stop words"
      ]
    },
    {
      "cell_type": "code",
      "execution_count": null,
      "metadata": {
        "colab": {
          "base_uri": "https://localhost:8080/"
        },
        "id": "5ivdAYg3rEa9",
        "outputId": "20a96a94-3f6b-4625-94fb-738170aeed85"
      },
      "outputs": [],
      "source": [
        "import nltk\n",
        "# nltk.download('stopwords')\n",
        "nltk.download('wordnet')"
      ]
    },
    {
      "cell_type": "code",
      "execution_count": null,
      "metadata": {
        "colab": {
          "base_uri": "https://localhost:8080/"
        },
        "id": "NZrAVkg8SNAk",
        "outputId": "f75c13a8-79b9-42eb-9402-95b9fdfa02d9"
      },
      "outputs": [],
      "source": [
        "# stop words set\n",
        "STOP_WORDS_FILES = ['mallet_stop_words.txt']\n",
        "stop_words_set = set()\n",
        "stop_words = set(stopwords.words('english'))\n",
        "for word in stop_words:\n",
        "    if('\\'' in word):\n",
        "        stop_words_set.add(word.strip().replace('\\'', ''))\n",
        "    stop_words_set.add(word)\n",
        "for swfile in STOP_WORDS_FILES:\n",
        "    try:\n",
        "        with open(swfile, 'r') as f:\n",
        "            words = f.readlines()\n",
        "            for word in words:\n",
        "                if('\\'' in word):\n",
        "                    stop_words_set.add(word.strip().replace('\\'', ''))\n",
        "                stop_words_set.add(word.strip())\n",
        "    except:\n",
        "        pass"
      ]
    },
    {
      "cell_type": "code",
      "execution_count": null,
      "metadata": {
        "colab": {
          "base_uri": "https://localhost:8080/"
        },
        "id": "JdgTGaArkkld",
        "outputId": "1efdcd73-2b11-4536-932b-fb091e4ecfa6"
      },
      "outputs": [],
      "source": [
        "def preprocess_text(text):\n",
        "    # remove non ascii\n",
        "    text = unicodedata.normalize('NFKD', text).encode(\n",
        "        'ascii', 'ignore').decode('utf-8', 'ignore')\n",
        "    text = text.lower()\n",
        "    # unescaping\n",
        "    text = html.unescape(text)\n",
        "    text = re.sub(r'<code>(.|\\n)*?</code>','', text) # removing <code>...</code>\n",
        "    text = re.sub(r'<a.*?</a>', '', text)  # removing whole anchor tags\n",
        "    text = re.sub(r'(<.*?>)', '', text)  # removing html markup\n",
        "    text = re.sub(r'[^\\w\\s]', '', text)  # removing punctuation\n",
        "    text = re.sub(r'[\\d]', '', text)  # removing digits\n",
        "    # remove stopwords\n",
        "    tokenized = []\n",
        "    for word in text.split():\n",
        "        if word in stop_words_set:\n",
        "            continue\n",
        "        tokenized.append(word)\n",
        "    for i in range(len(tokenized)):\n",
        "        word = tokenized[i]\n",
        "        word = WordNetLemmatizer().lemmatize(word, pos='v')\n",
        "        tokenized[i] = stemmer.stem(word)\n",
        "        # tokenized[i] = word\n",
        "    return tokenized"
      ]
    },
    {
      "cell_type": "code",
      "execution_count": null,
      "metadata": {
        "colab": {
          "base_uri": "https://localhost:8080/",
          "height": 224
        },
        "id": "5dMroUcWkpq-",
        "outputId": "d945e8d4-d317-480f-8513-225035657d6b"
      },
      "outputs": [],
      "source": [
        "df_raw = pd.read_csv(TM_data_file)\n",
        "df_raw['preprocessed'] = \"\"\n",
        "for i in range(len(df_raw)):\n",
        "    df_raw['preprocessed'].iloc[i] = preprocess_text(df_raw.raw_data.iloc[i])\n",
        "save_df(df_raw, TM_data_processed_file)\n",
        "# df.to_csv('preprocesseedData.csv')\n",
        "df_raw.head()"
      ]
    },
    {
      "cell_type": "code",
      "execution_count": null,
      "metadata": {
        "colab": {
          "base_uri": "https://localhost:8080/"
        },
        "id": "MAKwkD80K5AX",
        "outputId": "276d9ef6-7c5f-4fbd-c02e-083afb5aaabf"
      },
      "outputs": [],
      "source": [
        "save_obj(df_raw, \"processed_df\")"
      ]
    },
    {
      "cell_type": "code",
      "execution_count": null,
      "metadata": {
        "colab": {
          "base_uri": "https://localhost:8080/"
        },
        "id": "9qCuLkwR-ZxK",
        "outputId": "a6cd6689-67a5-43d0-9a9a-2dd14dcb0bb8"
      },
      "outputs": [],
      "source": [
        "# save_obj(df_raw, \"processed_df\")\n",
        "df_TM = load_obj(\"processed_df\")\n",
        "print(len(df_TM))"
      ]
    },
    {
      "cell_type": "markdown",
      "metadata": {
        "id": "_ZpFrX7jR1ME"
      },
      "source": [
        "### Topic Modelling"
      ]
    },
    {
      "cell_type": "markdown",
      "metadata": {
        "id": "zo3BmJ8Wk6my"
      },
      "source": [
        "#### Optimal number of topics"
      ]
    },
    {
      "cell_type": "code",
      "execution_count": null,
      "metadata": {
        "id": "AE5Os6Fe0W6l"
      },
      "outputs": [],
      "source": [
        "# df_TM = pd.read_csv(TM_data_processed_file)\n",
        "# print(df.head)"
      ]
    },
    {
      "cell_type": "code",
      "execution_count": null,
      "metadata": {
        "colab": {
          "base_uri": "https://localhost:8080/"
        },
        "id": "h02IClOcr3I0",
        "outputId": "1af5d776-1336-4c9f-8598-90957c32e5b8"
      },
      "outputs": [],
      "source": [
        "topic_range = []\n",
        "print(topic_range)\n",
        "for i in range(5, 71, 5):\n",
        "    if i not in topic_range:\n",
        "        topic_range.append(i)\n",
        "topic_range.sort()\n",
        "print(topic_range)"
      ]
    },
    {
      "cell_type": "code",
      "execution_count": null,
      "metadata": {
        "colab": {
          "base_uri": "https://localhost:8080/",
          "height": 534
        },
        "id": "p7Y5S6_mSNko",
        "outputId": "9f1e79e5-50ef-488d-fc78-20ba5a8a1e38"
      },
      "outputs": [],
      "source": [
        "# finding out optimum topic number\n",
        "coherence_file = os.path.join(\"output\", \"topicModeling\", \"Coherence_Scores_5_70_nns.csv\")\n",
        "image_file = \"scores_5_70_nns.png\"\n",
        "data = df_TM['preprocessed']\n",
        "print(data)\n",
        "dictionary = gensim.corpora.Dictionary(data)\n",
        "corpus = [dictionary.doc2bow(doc) for doc in data]\n",
        "coherence_scores = []\n",
        "for num_topics in tqdm(topic_range):\n",
        "    ldamallet = gensim.models.wrappers.LdaMallet(\n",
        "        mallet_path, corpus=corpus, num_topics=num_topics, id2word=dictionary, alpha=50/num_topics,  iterations=1000)\n",
        "    coherenceModel = CoherenceModel(model=ldamallet, texts=data, dictionary=dictionary, coherence='c_v')\n",
        "    score = coherenceModel.get_coherence()\n",
        "    coherence_scores.append([num_topics,score])\n",
        "# save scores as csv\n",
        "ch_df = pd.DataFrame(coherence_scores,columns=['Num Topic','Score'])\n",
        "\n",
        "save_df(ch_df, coherence_file)\n",
        "# ch_df.to_csv('Coherence_Scores.csv')\n",
        "# plot\n",
        "plt.xlabel('Number of Topics') \n",
        "plt.ylabel('Coherence Score') \n",
        "x = []\n",
        "y = []\n",
        "for score in coherence_scores:\n",
        "    x.append(score[0])\n",
        "    y.append(score[1])\n",
        "plt.plot(x,y,c='r')\n",
        "plt.gca().set_aspect('auto')\n",
        "plt.grid()\n",
        "plt.savefig(image_file, dpi=500)\n",
        "plt.show()"
      ]
    },
    {
      "cell_type": "markdown",
      "metadata": {
        "id": "82_pdJ28k9te"
      },
      "source": [
        "#### Generating topics"
      ]
    },
    {
      "cell_type": "code",
      "execution_count": null,
      "metadata": {
        "colab": {
          "base_uri": "https://localhost:8080/"
        },
        "id": "JyKl6hRuunR0",
        "outputId": "83705d1e-015f-4ece-eb33-c3d5fe703732"
      },
      "outputs": [],
      "source": [
        "\n",
        "\n"
      ]
    },
    {
      "cell_type": "code",
      "execution_count": null,
      "metadata": {
        "colab": {
          "base_uri": "https://localhost:8080/"
        },
        "id": "Vld1AVuRlAsp",
        "outputId": "802f59f7-2388-4012-dda3-d39a2ccd2a6f"
      },
      "outputs": [],
      "source": [
        "res_dir = create_dir(current_dir, 'TM_Run2')\n",
        "data = df_TM['preprocessed']\n",
        "dictionary = gensim.corpora.Dictionary(data)\n",
        "corpus = [dictionary.doc2bow(doc) for doc in data]\n",
        "# create folder for topic number\n",
        "NUM_TOPIS = [25, 45]\n",
        "for num_topics in NUM_TOPIS:\n",
        "    topic_dir = create_dir(res_dir, f'{num_topics}_Topics')\n",
        "    if os.path.isfile(os.path.join(topic_dir, 'ldamallet.pkl')):\n",
        "        ldamallet = pickle.load(\n",
        "            open(os.path.join(topic_dir, 'ldamallet.pkl'), \"rb\"))\n",
        "    else:\n",
        "        ldamallet = gensim.models.wrappers.LdaMallet(\n",
        "            mallet_path, corpus=corpus, num_topics=num_topics, id2word=dictionary, alpha=50/num_topics, iterations=1000)\n",
        "        # save the model as pickle\n",
        "        pickle.dump(ldamallet, open(os.path.join(\n",
        "            topic_dir, 'ldamallet.pkl'), \"wb\"))\n",
        "    topics = [[(word, word_prob) for word, word_prob in ldamallet.show_topic(\n",
        "        n, topn=30)] for n in range(ldamallet.num_topics)]\n",
        "    # term-topic matrix\n",
        "    topics_df = pd.DataFrame([[f'{word} {round(word_prob,4)}' for word, word_prob in topic] for topic in topics], columns=[\n",
        "        f'Term {i}' for i in range(1, 31)], index=[f'Topic {n}' for n in range(ldamallet.num_topics)]).T\n",
        "    topics_df.to_csv(os.path.join(topic_dir, 'term x topic.csv'))\n",
        "    # topic words\n",
        "    topic_words_dir = create_dir(topic_dir, 'TopicWords')\n",
        "    for n in range(num_topics):\n",
        "        topic_words_df = pd.DataFrame(\n",
        "            [[word_prob, word]for word, word_prob in topics[n]], columns=['Prob', 'Word'])\n",
        "        topic_words_df.to_csv(os.path.join(topic_words_dir, f'{n}.csv'))\n",
        "    # post to dominant topic\n",
        "    corpus_topic_df = pd.DataFrame()\n",
        "    corpus_topic_df['link'] = df.Id\n",
        "    corpus_topic_df['qa'] = df.qa\n",
        "    for i in range(len(corpus_topic_df)):\n",
        "        corpus_topic_df.link.iloc[i] = make_link(df.Id.iloc[i],df.qa.iloc[i])\n",
        "    topic_model_results = ldamallet[corpus]\n",
        "    corpus_topics = [sorted(doc, key=lambda x: -x[1])[0]\n",
        "                    for doc in topic_model_results]\n",
        "    corpus_topic_df['Dominant Topic'] = [item[0] for item in corpus_topics]\n",
        "    corpus_topic_df['Correlation'] = [item[1] for item in corpus_topics]\n",
        "    corpus_topic_df.to_csv(os.path.join(topic_dir, 'postToTopic.csv'))\n",
        "    topic_to_post_dir = create_dir(topic_dir, 'TopicToPost')\n",
        "    for i in range(num_topics):\n",
        "        temp = create_dir(topic_to_post_dir, str(i))\n",
        "        temp_q_df = corpus_topic_df.loc[corpus_topic_df['Dominant Topic'] == i]\n",
        "        temp_q_df = temp_q_df.loc[temp_q_df['qa'] == 'q']\n",
        "        temp_a_df = corpus_topic_df.loc[corpus_topic_df['Dominant Topic'] == i]\n",
        "        temp_a_df = temp_a_df.loc[temp_a_df['qa'] == 'a']\n",
        "        temp_q_df.drop(columns=['Dominant Topic','qa']).to_csv(\n",
        "            os.path.join(temp, 'Questions.csv'), index=False)\n",
        "        # temp_q_df.drop(columns=['Dominant Topic','qa']).to_excel(\n",
        "        #     os.path.join(temp, 'Questions.xlsx'), index=False)\n",
        "        temp_a_df.drop(columns=['Dominant Topic','qa']).to_csv(\n",
        "            os.path.join(temp, 'Answers.csv'), index=False)\n",
        "        # temp_a_df.drop(columns=['Dominant Topic','qa']).to_excel(\n",
        "        #     os.path.join(temp, 'Answers.xlsx'), index=False)\n",
        "    # post count under any topic\n",
        "    topic_post_cnt_df = corpus_topic_df.groupby('Dominant Topic').agg(\n",
        "        Document_Count=('Dominant Topic', np.size),\n",
        "        Percentage=('Dominant Topic', np.size)).reset_index()\n",
        "    topic_post_cnt_df['Percentage'] = topic_post_cnt_df['Percentage'].apply(\n",
        "        lambda x: round((x*100) / len(corpus), 2))\n",
        "    topic_post_cnt_df.to_csv(os.path.join(topic_dir, 'postPerTopic.csv'))\n",
        "    # pyLDAvis\n",
        "    vis = pyLDAvis.gensim.prepare(\n",
        "        gensim.models.wrappers.ldamallet.malletmodel2ldamodel(ldamallet), corpus, dictionary)\n",
        "    pyLDAvis.save_html(vis, os.path.join(topic_dir, f'pyLDAvis.html'))"
      ]
    },
    {
      "cell_type": "markdown",
      "metadata": {
        "id": "d766kEtq1QDF"
      },
      "source": [
        "#### Update topic outputs"
      ]
    },
    {
      "cell_type": "code",
      "execution_count": null,
      "metadata": {
        "colab": {
          "base_uri": "https://localhost:8080/"
        },
        "id": "0GoP6-AVEwKe",
        "outputId": "e70e2ef3-c129-4069-e79c-e8fdae511a21"
      },
      "outputs": [],
      "source": [
        "print(res_dir)\n",
        "def get_post_stat(df, qids):\n",
        "    res_score = []\n",
        "    res_view = []\n",
        "    for qid in qids:\n",
        "        q = df[df['Id'] == str(qid)].iloc[0]\n",
        "        res_score.append(q.Score)\n",
        "        res_view.append(q.ViewCount)\n",
        "    return res_score, res_view\n",
        "\n",
        "def update_TM_reresult(file):\n",
        "    df = pd.read_csv(file)\n",
        "    links = df['link'].tolist()\n",
        "    # print(links[0])\n",
        "    # print(linkToId(links[0]))\n",
        "    ids = [linkToId(i) for i in links]\n",
        "    res_score, res_view = get_post_stat(DF_question_nss_final_tag, ids)\n",
        "    df['score'] = res_score\n",
        "    df['view_count'] = res_view\n",
        "    # print(df.head)\n",
        "    save_df(df, file)\n",
        "    # df.to_csv(\"updated.csv\")\n",
        "    # return df\n",
        "\n",
        "update_TM_reresult(file)\n"
      ]
    },
    {
      "cell_type": "markdown",
      "metadata": {
        "id": "uSsCmJ5sdnet"
      },
      "source": [
        "# Results"
      ]
    },
    {
      "cell_type": "code",
      "execution_count": null,
      "metadata": {
        "colab": {
          "base_uri": "https://localhost:8080/"
        },
        "id": "lDVr2cY00Tyn",
        "outputId": "fb4ca13c-625e-4556-eed6-dded4cbdf4ab"
      },
      "outputs": [],
      "source": [
        "MAP_tm_id_quid = load_obj(\"MAP_tm_id_quid\")\n",
        "MAP_merged_tm_quid = load_obj(\"MAP_merged_tm_quid\")\n",
        "TMs = load_obj(\"TMs\")\n",
        "Map_cat_topic = load_obj(\"Map_cat_topic\")\n",
        "DF_question_nss_final_tag = load_obj(\"DF_question_nss_final_tag\")\n",
        "Map_topic_pop_diff = load_obj(\"Map_topic_pop_diff\")\n",
        "Map_cat_ques = load_obj(\"Map_cat_ques\")\n",
        "All_Questions_df = load_obj(\"DF_question_nss_final_tag\")"
      ]
    },
    {
      "cell_type": "markdown",
      "metadata": {
        "id": "ieocUnhxwiIH"
      },
      "source": [
        "## RQ Topic Modelling"
      ]
    },
    {
      "cell_type": "code",
      "execution_count": null,
      "metadata": {
        "colab": {
          "base_uri": "https://localhost:8080/"
        },
        "id": "zowfEkulzyzz",
        "outputId": "73abe0ab-6e39-471f-91ac-72acdbdb8b98"
      },
      "outputs": [],
      "source": [
        "class TM:\n",
        "    def __init__(self):\n",
        "        self.name = \"\"\n",
        "        self.ids = []\n",
        "        self.low_cat = \"\"\n",
        "        self.mid_cat = \"\"\n",
        "        self.high_cat = \"\"\n",
        "    def __str__(self):\n",
        "        print(\"Name: %s, Ids: %s, Low: %s, Mid: %s, High: %s\" % (self.name, self.ids, self.low_cat, self.mid_cat, self.high_cat))"
      ]
    },
    {
      "cell_type": "code",
      "execution_count": null,
      "metadata": {
        "colab": {
          "base_uri": "https://localhost:8080/"
        },
        "id": "o5sskrKcwp8Y",
        "outputId": "e6d8d7b0-1166-4489-9eed-2822c5766367"
      },
      "outputs": [],
      "source": [
        "# https://www.surveysystem.com/sscalc.htm\n",
        "High_cats = [\"Customization\", \"Data Storage\", \"Platform Adoption\", \"Platform Maintenance\", \"Third-Party Integration\" ]\n",
        "Sample_size = {\"Customization\": 95 , \"Data Storage\": 95, \"Platform Adoption\": 94, \"Platform Maintenance\": 94, \"Third-Party Integration\": 93}\n",
        "File_Cat_sample = os.path.join(ROOT_dir, \"output\", \"Category_sample.csv\")\n",
        "Total_Questions = 26763\n",
        "Total_Ansers = 11010\n"
      ]
    },
    {
      "cell_type": "code",
      "execution_count": null,
      "metadata": {
        "colab": {
          "base_uri": "https://localhost:8080/"
        },
        "id": "im-RCIGSyYXN",
        "outputId": "83d45123-39c7-44dc-8a21-482374f55bbc"
      },
      "outputs": [],
      "source": [
        "MAP_tm_id_quid = load_obj(\"MAP_tm_id_quid\")\n",
        "MAP_merged_tm_quid = load_obj(\"MAP_merged_tm_quid\")\n",
        "MAP_tm_id_ansid = load_obj(\"MAP_tm_id_ansid\")\n",
        "MAP_merged_tm_ansid = load_obj(\"MAP_merged_tm_ansid\")\n",
        "TMs = load_obj(\"TMs\")\n",
        "Map_sample = load_obj(\"Map_sample\")\n",
        "Map_cat_ques = load_obj(\"Map_cat_ques\")\n",
        "Map_cat_topic = load_obj(\"Map_cat_topic\")\n",
        "DF_sample = load_obj(\"DF_sample\")\n",
        "\n",
        "\n",
        "# MAP_tm_id_quid = load_obj(\"MAP_tm_id_quid\")\n",
        "# MAP_tm_id_quid = load_obj(\"MAP_tm_id_quid\")\n",
        "# MAP_tm_id_quid = load_obj(\"MAP_tm_id_quid\")\n",
        "# MAP_tm_id_quid = load_obj(\"MAP_tm_id_quid\")\n",
        "# MAP_tm_id_quid = load_obj(\"MAP_tm_id_quid\")\n",
        "# MAP_tm_id_quid = load_obj(\"MAP_tm_id_quid\")\n"
      ]
    },
    {
      "cell_type": "code",
      "execution_count": null,
      "metadata": {
        "colab": {
          "base_uri": "https://localhost:8080/"
        },
        "id": "olIP8Zh97gBI",
        "outputId": "06057498-9183-49d0-8c86-b4ee431f5e13"
      },
      "outputs": [],
      "source": [
        "Map_cat_ques = {}"
      ]
    },
    {
      "cell_type": "markdown",
      "metadata": {
        "id": "wzjfy56wwlTM"
      },
      "source": [
        "#### TopicID vs QuestionID"
      ]
    },
    {
      "cell_type": "markdown",
      "metadata": {
        "id": "J5Q_kOSJEX_A"
      },
      "source": [
        "topics to question_ids"
      ]
    },
    {
      "cell_type": "code",
      "execution_count": null,
      "metadata": {
        "id": "bClzTUO-DH8b"
      },
      "outputs": [],
      "source": [
        "df_tm_ques = df_tm[df_tm['qa'] == 'q']\n",
        "print(len(df_tm_ques))\n",
        "for topic_id in range(45):\n",
        "    MAP_tm_id_quid[topic_id] = []\n",
        "    ques_ids = df_tm_ques[df_tm_ques['Dominant Topic'] == topic_id]['link'].tolist()\n",
        "    for i in range(len(ques_ids)):\n",
        "        ques_ids[i] = linkToId(ques_ids[i])\n",
        "    MAP_tm_id_quid[topic_id] = ques_ids\n"
      ]
    },
    {
      "cell_type": "code",
      "execution_count": null,
      "metadata": {
        "colab": {
          "base_uri": "https://localhost:8080/"
        },
        "id": "_Vbddk55HNEZ",
        "outputId": "13afb826-49a5-4c87-fdec-e506de43293a"
      },
      "outputs": [],
      "source": [
        "save_obj(MAP_tm_id_quid, \"MAP_tm_id_quid\")"
      ]
    },
    {
      "cell_type": "markdown",
      "metadata": {
        "id": "m11gMYMAEcPK"
      },
      "source": [
        "Topics to answers ids"
      ]
    },
    {
      "cell_type": "code",
      "execution_count": null,
      "metadata": {
        "colab": {
          "base_uri": "https://localhost:8080/"
        },
        "id": "vjVyshG6Ee5k",
        "outputId": "a25c2940-236e-4144-dffd-fb4ff0f0c097"
      },
      "outputs": [],
      "source": [
        "df_tm_ans = df_tm[df_tm['qa'] == 'a']\n",
        "print(len(df_tm_ans))\n",
        "MAP_tm_id_ansid = {}\n",
        "for topic_id in range(45):\n",
        "    MAP_tm_id_ansid[topic_id] = []\n",
        "    ans_ids = df_tm_ans[df_tm_ans['Dominant Topic'] == topic_id]['link'].tolist()\n",
        "    for i in range(len(ans_ids)):\n",
        "        ans_ids[i] = linkToId(ans_ids[i])\n",
        "    MAP_tm_id_ansid[topic_id] = ans_ids\n",
        "save_obj(MAP_tm_id_ansid, \"MAP_tm_id_ansid\")"
      ]
    },
    {
      "cell_type": "markdown",
      "metadata": {
        "id": "f0s_eILLwq5w"
      },
      "source": [
        "#### Topic Categorization"
      ]
    },
    {
      "cell_type": "markdown",
      "metadata": {
        "id": "XZTKCIPnw1Ij"
      },
      "source": [
        "##### Parse TM labeling file"
      ]
    },
    {
      "cell_type": "code",
      "execution_count": null,
      "metadata": {
        "colab": {
          "base_uri": "https://localhost:8080/"
        },
        "id": "vtAEivX9KCbR",
        "outputId": "a80796ef-1d0f-4440-d589-1ebd2c553008"
      },
      "outputs": [],
      "source": [
        "input_file = os.path.join(ROOT_dir, \"dataset\", \"TM_label.csv\")\n",
        "df_tm_label = pd.read_csv(input_file)\n",
        "print(df_tm_label.columns)\n",
        "df_tm_label = pd.read_csv(input_file).dropna( subset=['Id', \"Topic_name\"])\n",
        "print(len(df_tm_label))\n",
        "# print(df_tm_label)"
      ]
    },
    {
      "cell_type": "code",
      "execution_count": null,
      "metadata": {
        "colab": {
          "base_uri": "https://localhost:8080/"
        },
        "id": "_QWEqIg3Mj0u",
        "outputId": "898fbfb7-eba0-4e9c-ae00-51a7ffbd73e3"
      },
      "outputs": [],
      "source": [
        "TMs = []\n",
        "for index, row in df_tm_label.iterrows():\n",
        "    id = int(row[\"Id\"])\n",
        "    topic_name = row[\"Topic_name\"]\n",
        "    merged_id = row[\"Merged Topic\"]\n",
        "    low_cat = row[\"Lower Cat\"]\n",
        "    mid_cat = row[\"Middle Cat\"]\n",
        "    high_cat = row[\"Higher Cat\"]\n",
        "\n",
        "    if(math.isnan(merged_id)):\n",
        "        merged_id = -2\n",
        "    merged_id = int(merged_id)\n",
        "    # print(id)\n",
        "    # print(merged_id)\n",
        "    if(merged_id == -1):\n",
        "        # print(math.isnan(merged_id))\n",
        "        print(\"Id %d is merged\" % (id))\n",
        "        continue\n",
        "    tm = TM()\n",
        "    tm.name = topic_name\n",
        "    tm.ids.append(id)\n",
        "    if(merged_id != -2):\n",
        "        tm.ids.append(merged_id)\n",
        "    tm.low_cat = low_cat\n",
        "    tm.mid_cat = mid_cat\n",
        "    tm.high_cat = high_cat\n",
        "\n",
        "    TMs.append(tm)\n",
        "\n",
        "    print(\"name: %s and ids: %s\" % (tm.name, tm.ids))\n",
        "\n",
        "    # print(tm)\n",
        "    # break\n",
        "save_obj(TMs, \"TMs\")"
      ]
    },
    {
      "cell_type": "markdown",
      "metadata": {
        "id": "_jxlt1lx6-4k"
      },
      "source": [
        "#### Map Questions to Categories and samples"
      ]
    },
    {
      "cell_type": "code",
      "execution_count": null,
      "metadata": {
        "colab": {
          "base_uri": "https://localhost:8080/"
        },
        "id": "TWHMEGPTSy2w",
        "outputId": "16e053cf-fa09-4f9c-b91a-eb7daee0f297"
      },
      "outputs": [],
      "source": [
        "import random\n",
        "\n",
        "print(len(TMs))\n",
        "total = 0\n",
        "Map_sample = {}\n",
        "for high_cat in High_cats:\n",
        "    # print(high_cat)\n",
        "    ids = []\n",
        "    topics = 0\n",
        "    for tm in TMs:\n",
        "        if tm.high_cat == high_cat:\n",
        "            topics += 1\n",
        "            ids += tm.ids\n",
        "    print(ids)\n",
        "    questions = []\n",
        "    for id in ids:\n",
        "        total_questions += len(MAP_tm_id_quid[id])\n",
        "        questions += MAP_tm_id_quid[id]\n",
        "    total += len(questions)\n",
        "    sample = random.sample(questions, Sample_size[high_cat])\n",
        "    assert len(sample) == len(set(sample))\n",
        "    assert len(sample) == Sample_size[high_cat]\n",
        "    Map_sample[high_cat] = sample\n",
        "    Map_cat_ques[high_cat] = questions\n",
        "    print(\"High Cat: %s Topics: %d and topics_ids: %d total_ques: %d\" % (high_cat, topics, len(ids), len(questions)))\n",
        "    print(sample)\n",
        "print(total)           \n",
        "save_obj(Map_sample, \"Map_sample\")    \n",
        "save_obj(Map_cat_ques, \"Map_cat_ques\")     "
      ]
    },
    {
      "cell_type": "code",
      "execution_count": null,
      "metadata": {
        "colab": {
          "base_uri": "https://localhost:8080/"
        },
        "id": "cqzAsnr46fa_",
        "outputId": "55c5327d-85dd-48dd-92eb-40a6510e18ea"
      },
      "outputs": [],
      "source": [
        "for high_cat in High_cats:\n",
        "    print(\"%s Categories has %d questions\" % (high_cat, len(Map_cat_ques[high_cat])))\n"
      ]
    },
    {
      "cell_type": "markdown",
      "metadata": {
        "id": "EaZwvdxAN6CE"
      },
      "source": [
        "#### Map cat to topic"
      ]
    },
    {
      "cell_type": "code",
      "execution_count": null,
      "metadata": {
        "colab": {
          "base_uri": "https://localhost:8080/"
        },
        "id": "ILyDiKVBN-05",
        "outputId": "5393f26f-253a-4c6c-e3a7-bddfc044539f"
      },
      "outputs": [],
      "source": [
        "Map_cat_topic = {}\n",
        "for high_cat in High_cats:\n",
        "    Map_cat_topic[high_cat] = []\n",
        "for tm in TMs:\n",
        "    Map_cat_topic[tm.high_cat].append(tm)\n",
        "for high_cat in High_cats:\n",
        "    print(\"%s => #%d\" % (high_cat, len(Map_cat_topic[high_cat])))\n",
        "\n",
        "save_obj(Map_cat_topic, \"Map_cat_topic\")\n",
        "#     print(\"%s Categories has %d questions\" % (high_cat, len(Map_cat_ques[high_cat])))"
      ]
    },
    {
      "cell_type": "markdown",
      "metadata": {
        "id": "7_6x95hxxExM"
      },
      "source": [
        "#### Create labeling sample"
      ]
    },
    {
      "cell_type": "code",
      "execution_count": null,
      "metadata": {
        "colab": {
          "base_uri": "https://localhost:8080/"
        },
        "id": "uUpig-xIrVdK",
        "outputId": "ff33c9f4-a61b-4530-f2e2-5084fc1d5e1a"
      },
      "outputs": [],
      "source": [
        "input_file = os.path.join(ROOT_dir, \"dataset\", \"MSR_SDLC.csv\")\n",
        "df_msr_sdlc = pd.read_csv(input_file)\n",
        "print(len(df_msr_sdlc))\n",
        "df_msr_sdlc = df_msr_sdlc[['Id', \"SDLC\"]]\n",
        "print(df_msr_sdlc)"
      ]
    },
    {
      "cell_type": "code",
      "execution_count": null,
      "metadata": {
        "colab": {
          "base_uri": "https://localhost:8080/"
        },
        "id": "bYQbXOHAse1D",
        "outputId": "f08100de-61bc-4d4f-e366-3662c8856b5d"
      },
      "outputs": [],
      "source": [
        "# df_merged = pd.merge(DF_sample, df_msr_sdlc, on=\"Id\", how=\"left\")\n",
        "# print(len(df_merged))\n",
        "# save_df(df_merged, File_Cat_sample)"
      ]
    },
    {
      "cell_type": "code",
      "execution_count": null,
      "metadata": {
        "colab": {
          "base_uri": "https://localhost:8080/"
        },
        "id": "kFFnmaVuhD2_",
        "outputId": "22c656bb-0da4-4a06-b881-8664c3e85687"
      },
      "outputs": [],
      "source": [
        "DF_question_nss_final_tag = load_obj(\"DF_question_nss_final_tag\")\n",
        "print(len(DF_question_nss_final_tag))\n",
        "sample_ques_ids = []\n",
        "for high_cat in High_cats:\n",
        "    print(\"High Cat: %s total_ques: %d\" % (high_cat, len(Map_sample[high_cat])))\n",
        "    sample_ques_ids += Map_sample[high_cat]\n",
        "print(len(sample_ques_ids))\n",
        "DF_question_nss_final_tag['Id'] = DF_question_nss_final_tag['Id'].astype(int)\n",
        "DF_sample = DF_question_nss_final_tag[DF_question_nss_final_tag['Id'].isin(sample_ques_ids)]\n",
        "print(len(DF_sample))\n",
        "df_merged = pd.merge(DF_sample, df_msr_sdlc, on=\"Id\", how=\"left\")\n",
        "save_obj(df_merged, \"DF_sample\")\n",
        "save_df(df_merged, File_Cat_sample)"
      ]
    },
    {
      "cell_type": "code",
      "execution_count": null,
      "metadata": {
        "id": "jHPOAyFUl4YK"
      },
      "outputs": [],
      "source": [
        "print(sample_ques_ids)\n",
        "DF_sample = DF_question_nss_final_tag[DF_question_nss_final_tag['Id'] == \"12556\"]\n",
        "print(DF_sample)\n",
        "# print(type(sample_ques_ids[0]))\n",
        "# print(type(DF_question_nss_final_tag.Id))\n",
        "# DF_question_nss_final_tag.Id\n"
      ]
    },
    {
      "cell_type": "code",
      "execution_count": null,
      "metadata": {
        "colab": {
          "base_uri": "https://localhost:8080/"
        },
        "id": "IDrWVvw5lNO2",
        "outputId": "d8b540c9-1cf6-4d30-8602-38439c102fe7"
      },
      "outputs": [],
      "source": [
        "\n",
        "print(len(DF_question_nss_final_tag))"
      ]
    },
    {
      "cell_type": "markdown",
      "metadata": {
        "id": "3Ibgb8It7mvF"
      },
      "source": [
        "#### TMs statistics"
      ]
    },
    {
      "cell_type": "code",
      "execution_count": null,
      "metadata": {
        "id": "-MilT2CK7l8k"
      },
      "outputs": [],
      "source": [
        "# Total_Questions = 26763\n",
        "# print(len(TMs))\n",
        "# for tm in TMs:\n",
        "#     print(tm.ids, tm.name)"
      ]
    },
    {
      "cell_type": "code",
      "execution_count": null,
      "metadata": {
        "colab": {
          "base_uri": "https://localhost:8080/"
        },
        "id": "LesHIPM0gs7h",
        "outputId": "ba3e0b80-d6ff-4259-8ae2-c27a2a4d1ac9"
      },
      "outputs": [],
      "source": [
        "a = [1, 2, 3]\n",
        "b = a\n",
        "a = []\n",
        "b[0] = 100\n",
        "print(b, a)"
      ]
    },
    {
      "cell_type": "markdown",
      "metadata": {
        "id": "LrD2HbYuxJfh"
      },
      "source": [
        "Generate merged TM stat"
      ]
    },
    {
      "cell_type": "code",
      "execution_count": null,
      "metadata": {
        "id": "sXaoHqZg8amR"
      },
      "outputs": [],
      "source": [
        "MAP_merged_tm_quid = {}\n",
        "t = 0\n",
        "for tm in TMs:\n",
        "    qids = []\n",
        "    for id in tm.ids:\n",
        "        qids += MAP_tm_id_quid[id]\n",
        "    t += len(qids)\n",
        "    pct = round(len(qids) * 100.0 / Total_Questions, 1)\n",
        "    print(\"%s %s %d %.1f\" % (tm.ids, tm.name, len(qids), pct))\n",
        "    MAP_merged_tm_quid[tm.name] = qids\n",
        "assert t == Total_Questions\n",
        "save_obj(MAP_merged_tm_quid, \"MAP_merged_tm_quid\")\n",
        "    # print(tm.ids, tm.name)"
      ]
    },
    {
      "cell_type": "markdown",
      "metadata": {
        "id": "evWjQsuSF2oZ"
      },
      "source": [
        "Merged TM stat with answers\n"
      ]
    },
    {
      "cell_type": "code",
      "execution_count": null,
      "metadata": {
        "colab": {
          "base_uri": "https://localhost:8080/"
        },
        "id": "MnWoPvU3F5-z",
        "outputId": "53dba10b-c0c8-4972-b52f-15f19eae1b18"
      },
      "outputs": [],
      "source": [
        "MAP_merged_tm_ansid = {}\n",
        "t = 0\n",
        "for tm in TMs:\n",
        "    ans_ids = []\n",
        "    for id in tm.ids:\n",
        "        ans_ids += MAP_tm_id_ansid[id]\n",
        "    t += len(ans_ids)\n",
        "    pct = round(len(ans_ids) * 100.0 / Total_Ansers, 1)\n",
        "    print(\"%s %s %d %.1f\" % (tm.ids, tm.name, len(ans_ids), pct))\n",
        "    MAP_merged_tm_ansid[tm.name] = ans_ids\n",
        "assert t == Total_Ansers\n",
        "save_obj(MAP_merged_tm_ansid, \"MAP_merged_tm_ansid\")\n",
        "    # print(tm.ids, tm.name)"
      ]
    },
    {
      "cell_type": "markdown",
      "metadata": {
        "id": "k0Emiqtaf-Ue"
      },
      "source": [
        "Initialization code"
      ]
    },
    {
      "cell_type": "markdown",
      "metadata": {
        "id": "bOjX3eAp0ldD"
      },
      "source": [
        "## RQ Topic Evolution"
      ]
    },
    {
      "cell_type": "code",
      "execution_count": null,
      "metadata": {
        "colab": {
          "base_uri": "https://localhost:8080/"
        },
        "id": "1Ly9u5Is05_c",
        "outputId": "10d051fa-3f48-44b3-82eb-bac38352b9c6"
      },
      "outputs": [],
      "source": [
        "Tag_list_final = load_obj(\"Tag_list_final\")"
      ]
    },
    {
      "cell_type": "markdown",
      "metadata": {
        "id": "CElL9LtW08sy"
      },
      "source": [
        "### Absolute impact"
      ]
    },
    {
      "cell_type": "markdown",
      "metadata": {
        "id": "mH4qZ55VtqOO"
      },
      "source": [
        "#### 5 Topic categories"
      ]
    },
    {
      "cell_type": "code",
      "execution_count": null,
      "metadata": {
        "id": "OzrDUJsL1D5z"
      },
      "outputs": [],
      "source": [
        "SAMPLING = '1MS'\n",
        "DUMMY_DATE = pd.to_datetime('2008-8-1 18:18:37.777')\n",
        "Map_cat_ques_df = {}\n",
        "df_all_absolute = All_Questions_df[['Id', 'CreationDate']]\n",
        "df_all_absolute.CreationDate = df_all_absolute.CreationDate.apply(pd.to_datetime)\n",
        "df_all_absolute = df_all_absolute.resample(SAMPLING, on=\"CreationDate\").count()[[\"Id\"]]\n",
        "df_all_absolute.columns = ['All']\n",
        "# print(df_all.head())\n",
        "for high_cat in High_cats:\n",
        "    # print(\"%s Categories has %d questions\" % (high_cat, len(Map_cat_ques[high_cat])))\n",
        "    qids = Map_cat_ques[high_cat]\n",
        "    df_cat = All_Questions_df[All_Questions_df['Id'].astype(int).isin(qids)]\n",
        "    print(\"%s ==========> %d\" % (high_cat, len(df_cat)))\n",
        "    # df_cat = Map_cat_ques_df['Customization']\n",
        "    df_cat.CreationDate = df_cat.CreationDate.apply(pd.to_datetime)\n",
        "    df_cat = df_cat.append(pd.Series(data=[DUMMY_DATE], index = ['CreationDate']), ignore_index=True)\n",
        "    df_cat = df_cat.resample(SAMPLING, on='CreationDate').count()[[\"Id\"]]\n",
        "    df_cat.columns = [high_cat]\n",
        "    df_all_absolute = df_all_absolute.merge(df_cat, how='left', on='CreationDate', validate='one_to_one')\n",
        "    Map_cat_ques_df[high_cat] = df_cat\n",
        "\n",
        "print(df_all_absolute.head())\n",
        "\n",
        "# for high_cat in High_cats:\n",
        "#     print(\"%s Categories has %d questions\" % (high_cat, len(Map_cat_ques_df[high_cat])))\n",
        "\n"
      ]
    },
    {
      "cell_type": "code",
      "execution_count": null,
      "metadata": {
        "colab": {
          "base_uri": "https://localhost:8080/"
        },
        "id": "i2R2mCB7zdXu",
        "outputId": "9b2c7fac-8dde-468f-af82-2d217c557eae"
      },
      "outputs": [],
      "source": [
        "file_name = os.path.join(ROOT_dir, \"Output\", \"category_evolution_monthly.csv\")\n",
        "# save_df(df_all_absolute, file_name)\n",
        "df_all_absolute.to_csv(file_name, quotechar='\"', quoting=csv.QUOTE_NONNUMERIC)"
      ]
    },
    {
      "cell_type": "markdown",
      "metadata": {
        "id": "GY5IckEm11os"
      },
      "source": [
        "Absolute topic impact"
      ]
    },
    {
      "cell_type": "code",
      "execution_count": null,
      "metadata": {
        "id": "yC_9YX8H6yY2"
      },
      "outputs": [],
      "source": []
    },
    {
      "cell_type": "markdown",
      "metadata": {
        "id": "zAGj_AY_6FqZ"
      },
      "source": [
        "#### All LCSD posts evolution"
      ]
    },
    {
      "cell_type": "code",
      "execution_count": null,
      "metadata": {
        "colab": {
          "base_uri": "https://localhost:8080/",
          "height": 435
        },
        "id": "wpM9rHtn0PHe",
        "outputId": "3393e30c-9f1e-48a4-c352-099e36e60a5f"
      },
      "outputs": [],
      "source": [
        "file_name = os.path.join(ROOT_dir, \"Output\", \"All_posts_absolute_impact.png\")\n",
        "\n",
        "df = df_all_absolute[['All']]\n",
        "df.columns = ['LCSD Posts']\n",
        "ax = df.plot(figsize=(10,6))\n",
        "ax.xaxis.label.set_visible(False)\n",
        "# plt.xlabel('Time')\n",
        "plt.ylabel('# of Questions')\n",
        "\n",
        "labels = [x.strftime(\"%b, %Y\") for x in df_all_absolute.index]\n",
        "ax.set_xticks(labels)\n",
        "ax.set_xticklabels(labels, rotation=90)\n",
        "ax.spines['top'].set_visible(False)\n",
        "ax.spines['right'].set_visible(False)\n",
        "ax.title.set_visible(False)\n",
        "# plt.axis('off')\n",
        "# plt.grid()\n",
        "plt.savefig(file_name, dpi=1000, bbox_inches = \"tight\")\n",
        "plt.show()"
      ]
    },
    {
      "cell_type": "code",
      "execution_count": null,
      "metadata": {
        "colab": {
          "base_uri": "https://localhost:8080/",
          "height": 435
        },
        "id": "InzKuGQg16D9",
        "outputId": "d9e8864b-86a1-4364-8114-83e0c79af32c"
      },
      "outputs": [],
      "source": [
        "file_name = os.path.join(ROOT_dir, \"Output\", \"Topic_absolute_impact.png\")\n",
        "\n",
        "ax = df_all_absolute.drop(columns='All').plot(figsize=(10,6))\n",
        "ax.xaxis.label.set_visible(False)\n",
        "# plt.xlabel('Time')\n",
        "plt.ylabel('# of Questions')\n",
        "\n",
        "labels = [x.strftime(\"%b, %Y\") for x in df_all_absolute.index]\n",
        "ax.set_xticks(labels)\n",
        "ax.set_xticklabels(labels, rotation=90)\n",
        "ax.spines['top'].set_visible(False)\n",
        "ax.spines['right'].set_visible(False)\n",
        "# plt.grid()\n",
        "plt.savefig(file_name, dpi=1000, bbox_inches = \"tight\")\n",
        "plt.show()"
      ]
    },
    {
      "cell_type": "markdown",
      "metadata": {
        "id": "7SRLY5fntlFY"
      },
      "source": [
        "#### 40 topics"
      ]
    },
    {
      "cell_type": "code",
      "execution_count": null,
      "metadata": {
        "id": "4X7gzH22aBgb"
      },
      "outputs": [],
      "source": []
    },
    {
      "cell_type": "code",
      "execution_count": null,
      "metadata": {
        "id": "mVHZ3dzfzZd-"
      },
      "outputs": [],
      "source": [
        "# for topic in MAP_merged_tm_quid:\n",
        "#     print(topic, len(MAP_merged_tm_quid[topic]))\n",
        "\n",
        "\n",
        "for cat in Map_cat_topic:\n",
        "    print(cat, Map_cat_topic[cat])\n",
        "    for tm in Map_cat_topic[cat]:\n",
        "        print(tm.name, len(tm.ids))\n"
      ]
    },
    {
      "cell_type": "code",
      "execution_count": null,
      "metadata": {
        "colab": {
          "base_uri": "https://localhost:8080/"
        },
        "id": "EcuGbTC_z2sl",
        "outputId": "c3b4209b-151c-4216-881e-0a0138ade6ac"
      },
      "outputs": [],
      "source": [
        "def plot_dataframe(df, file_name, xlablel=\"Time\"):\n",
        "    ax = df.drop(columns='All').plot(figsize=(10,6))\n",
        "    ax.xaxis.label.set_visible(False)\n",
        "    plt.xlabel(xlablel)\n",
        "    plt.ylabel('# of Questions')\n",
        "    labels = [x.strftime(\"%b, %Y\") for x in df.index]\n",
        "    ax.set_xticks(labels)\n",
        "    ax.set_xticklabels(labels, rotation=90)\n",
        "    ax.spines['top'].set_visible(False)\n",
        "    ax.spines['right'].set_visible(False)\n",
        "    plt.savefig(file_name, dpi=1000, bbox_inches = \"tight\")\n",
        "    plt.show()\n",
        "\n",
        "def get_initial_df():\n",
        "    df = All_Questions_df[['Id', 'CreationDate']]\n",
        "    df.CreationDate = df.CreationDate.apply(pd.to_datetime)\n",
        "    df = df.resample(SAMPLING, on=\"CreationDate\").count()[[\"Id\"]]\n",
        "    df.columns = ['All']\n",
        "    return df\n"
      ]
    },
    {
      "cell_type": "code",
      "execution_count": null,
      "metadata": {
        "colab": {
          "base_uri": "https://localhost:8080/"
        },
        "id": "HVd1Oe_F9yiO",
        "outputId": "f63ef77d-81ea-4a0d-a238-b47b0a477a25"
      },
      "outputs": [],
      "source": [
        "pd.options.mode.chained_assignment = None"
      ]
    },
    {
      "cell_type": "markdown",
      "metadata": {
        "id": "5M1LBeDcZ2jP"
      },
      "source": [
        "### Covid19"
      ]
    },
    {
      "cell_type": "code",
      "execution_count": null,
      "metadata": {
        "colab": {
          "base_uri": "https://localhost:8080/",
          "height": 1000
        },
        "id": "Br1tizxBtxNl",
        "outputId": "35df78eb-3f7c-4420-bad5-efcaffde6352"
      },
      "outputs": [],
      "source": [
        "SAMPLING = '3MS'\n",
        "file_name = os.path.join(ROOT_dir, \"Output\", \"topic_evolution.csv\")\n",
        "# fig_file_name = os.path.join(ROOT_dir, \"Output\", \"Topics_absolute_impact.png\")\n",
        "\n",
        "\n",
        "for cat in Map_cat_topic:\n",
        "    # print(cat, Map_cat_topic[cat])\n",
        "    df = get_initial_df()\n",
        "    for tm in Map_cat_topic[cat]:\n",
        "        topic = tm.name\n",
        "    # for topic in MAP_merged_tm_quid:\n",
        "        # print(\"%s Categories has %d questions\" % (high_cat, len(Map_cat_ques[high_cat])))\n",
        "        qids = MAP_merged_tm_quid[topic]\n",
        "        df_cat = All_Questions_df[All_Questions_df['Id'].astype(int).isin(qids)]\n",
        "        # print(\"%s ==========> %d\" % (topic, len(df_cat)))\n",
        "        # df_cat = Map_cat_ques_df['Customization']\n",
        "        df_cat.CreationDate = df_cat.CreationDate.apply(pd.to_datetime)\n",
        "        df_cat = df_cat.append(pd.Series(data=[DUMMY_DATE], index = ['CreationDate']), ignore_index=True)\n",
        "        df_cat = df_cat.resample(SAMPLING, on='CreationDate').count()[[\"Id\"]]\n",
        "        df_cat.columns = [topic]\n",
        "        df = df.merge(df_cat, how='left', on='CreationDate', validate='one_to_one')\n",
        "        Map_cat_ques_df[topic] = df_cat\n",
        "    # print(df.head())\n",
        "\n",
        "    # df.to_csv(file_name, quotechar='\"', quoting=csv.QUOTE_NONNUMERIC)\n",
        "    fig_file_name = \"%s_absolute_impact.png\" % cat\n",
        "    fig_file_name = os.path.join(ROOT_dir, \"Output\", fig_file_name)\n",
        "    plot_dataframe(df, fig_file_name, cat)\n",
        "    # break\n",
        "\n"
      ]
    },
    {
      "cell_type": "markdown",
      "metadata": {
        "id": "Qa0EBBVCZ9Fn"
      },
      "source": [
        "#### Prepandemic vs post pandemic"
      ]
    },
    {
      "cell_type": "code",
      "execution_count": null,
      "metadata": {
        "colab": {
          "base_uri": "https://localhost:8080/"
        },
        "id": "R7vxacs5aAd5",
        "outputId": "1386f9fc-a4c7-4703-81d8-3486911cf1ef"
      },
      "outputs": [],
      "source": [
        "df_pandemic = pd.DataFrame()\n",
        "# pre_pandemic = []\n",
        "# post_pandemic = []\n",
        "for high_cat in High_cats:\n",
        "    # print(\"%s Categories has %d questions\" % (high_cat, len(Map_cat_ques[high_cat])))\n",
        "    qids = Map_cat_ques[high_cat]\n",
        "    df_cat = All_Questions_df[All_Questions_df['Id'].astype(int).isin(qids)]\n",
        "    print(\"%s ==========> %d\" % (high_cat, len(df_cat)))\n",
        "    # # df_cat = Map_cat_ques_df['Customization']\n",
        "    df_cat.CreationDate = df_cat.CreationDate.apply(pd.to_datetime)\n",
        "    df_pre_pandemic = len(df_cat[(df_cat['CreationDate'] > '2018-03-01') & (df_cat['CreationDate'] < '2020-2-29')]) / 24\n",
        "    df_post_pandemic = len(df_cat[(df_cat['CreationDate'] > '2020-03-01') & (df_cat['CreationDate'] < '2021-04-30')]) / 14\n",
        "\n",
        "    dic = {}\n",
        "    dic[\"Cat\"] = high_cat\n",
        "    dic[\"Pre_pandemic\"] = int(df_pre_pandemic)\n",
        "    dic[\"Post_pandemic\"] = int(df_post_pandemic)\n",
        "    \n",
        "\n",
        "    df_pandemic = df_pandemic.append(pd.Series(dic), ignore_index = True) \n",
        "\n",
        "    # last_month = len(df_cat[(df_cat['CreationDate'] > '2021-03-01') & (df_cat['CreationDate'] < '2026-3-31')])\n",
        "    # print(last_month)\n",
        "    # pre_pandemic.append(int(df_pre_pandemic))\n",
        "    # post_pandemic.append(int(df_post_pandemic))\n",
        "    # print(df_pre_pandemic)\n",
        "    # print(df_post_pandemic)\n",
        "    # break\n",
        "\n",
        "print(df_pandemic)\n"
      ]
    },
    {
      "cell_type": "code",
      "execution_count": null,
      "metadata": {
        "colab": {
          "base_uri": "https://localhost:8080/"
        },
        "id": "GwesXn7tpac9",
        "outputId": "93dc8a8b-358c-4c7c-85c1-316929232af8"
      },
      "outputs": [],
      "source": [
        "file_name = os.path.join(ROOT_dir, \"output\", \"pandemic.csv\")\n",
        "df_pandemic.to_csv(file_name, index=False, quotechar='\"', quoting=csv.QUOTE_NONNUMERIC)"
      ]
    },
    {
      "cell_type": "markdown",
      "metadata": {
        "id": "XFXjs3dPtuM9"
      },
      "source": [
        "#### Tags"
      ]
    },
    {
      "cell_type": "code",
      "execution_count": null,
      "metadata": {
        "colab": {
          "base_uri": "https://localhost:8080/"
        },
        "id": "xnxktOWUck1W",
        "outputId": "c6a15933-08e5-4d67-ce59-9a698d9e02ff"
      },
      "outputs": [],
      "source": [
        "a = [1, 3]\n",
        "b = [ 4, 5]\n",
        "c = a + b\n",
        "print(c)"
      ]
    },
    {
      "cell_type": "code",
      "execution_count": null,
      "metadata": {
        "id": "VNQTTrhJAAC2"
      },
      "outputs": [],
      "source": [
        "for tag in sorted(Map_tag_qids, key = lambda topic: len(Map_tag_qids[topic]), reverse=True):\n",
        "    print(tag, len(Map_tag_qids[tag]))\n"
      ]
    },
    {
      "cell_type": "code",
      "execution_count": null,
      "metadata": {
        "colab": {
          "base_uri": "https://localhost:8080/",
          "height": 728
        },
        "id": "FLiRiD5ntx4B",
        "outputId": "c7f3e2fc-23d9-49c2-a2df-6231c8158ffb"
      },
      "outputs": [],
      "source": [
        "SAMPLING = '3MS'\n",
        "file_name = os.path.join(ROOT_dir, \"Output\", \"tag_evolution.csv\")\n",
        "fig_file_name = os.path.join(ROOT_dir, \"Output\", \"Tag_absolute_impact.png\")\n",
        "\n",
        "df = get_initial_df()\n",
        "count = 0\n",
        "for tag in sorted(Map_tag_qids, key = lambda topic: len(Map_tag_qids[topic]), reverse=True):\n",
        "    qids = Map_tag_qids[tag]\n",
        "    print(tag, len(qids))\n",
        "    df_cat = All_Questions_df[All_Questions_df['Id'].astype(int).isin(qids)]\n",
        "    # print(\"%s ==========> %d\" % (topic, len(df_cat)))\n",
        "    # df_cat = Map_cat_ques_df['Customization']\n",
        "    df_cat.CreationDate = df_cat.CreationDate.apply(pd.to_datetime)\n",
        "    df_cat = df_cat.append(pd.Series(data=[DUMMY_DATE], index = ['CreationDate']), ignore_index=True)\n",
        "    df_cat = df_cat.resample(SAMPLING, on='CreationDate').count()[[\"Id\"]]\n",
        "    df_cat.columns = [tag]\n",
        "    df = df.merge(df_cat, how='left', on='CreationDate', validate='one_to_one')\n",
        "    count += 1\n",
        "    if(count > 15):\n",
        "        break\n",
        "\n",
        "# df.to_csv(file_name, quotechar='\"', quoting=csv.QUOTE_NONNUMERIC)\n",
        "plot_dataframe(df, fig_file_name)\n",
        "    # break\n",
        "\n"
      ]
    },
    {
      "cell_type": "markdown",
      "metadata": {
        "id": "DY05PqYTd1UH"
      },
      "source": [
        "##### Platform wise"
      ]
    },
    {
      "cell_type": "code",
      "execution_count": null,
      "metadata": {
        "colab": {
          "base_uri": "https://localhost:8080/"
        },
        "id": "s-JSI5fEX3HN",
        "outputId": "37e41691-4452-4e29-d7c3-35738e56b715"
      },
      "outputs": [],
      "source": [
        "PLATFORMS = {'Salesforce': ['salesforce', 'visualforce', 'salesforce-lightning', 'salesforce-service-cloud', 'lwc', \n",
        "                            'salesforce-communities', 'salesforce-marketing-cloud', 'salesforce-chatter', \n",
        "                            'salesforce-development', 'salesforce-ios-sdk'],\n",
        "             \"Oracle Apex\": ['apex-code', 'apex-code', 'apex', 'oracle-apex-5', 'oracle-apex-5.1', 'oracle-apex-19.1', 'oracle-apex-18.2', 'apex-trigger'],\n",
        "             \"Lotus Software\": ['lotus-domino', 'lotus-notes'],\n",
        "             'Filemaker': ['filemaker'],\n",
        "             'Microsoft PowerApps': ['powerapps', 'powerapps-canvas', 'powerapps-formula', 'powerapps-modeldriven', 'powerapps-selected-items', 'powerapps-collection'],\n",
        "             'Service Now': ['servicenow', 'servicenow-rest-api'],\n",
        "             'Tibco': ['tibco'],\n",
        "             'Zoho Creator': ['zoho'],\n",
        "             'OutSystems': ['outsystems'],\n",
        "             'Pega': ['pega'],\n",
        "             'Process Maker': ['processmaker'],\n",
        "             'Mendix': ['mendix']\n",
        "             }\n",
        "Map_Platfoms_quids = {}\n",
        "for platform in PLATFORMS:\n",
        "    Map_Platfoms_quids[platform] = []\n",
        "    for tag in PLATFORMS[platform]:\n",
        "        Map_Platfoms_quids[platform] = Map_Platfoms_quids[platform] + Map_tag_qids[tag]\n",
        "\n",
        "# for platform in PLATFORMS:\n",
        "#     print(platform, len(Map_Platfoms_quids[platform]))\n",
        "\n",
        "for platform in sorted(Map_Platfoms_quids, key = lambda platform: len(Map_Platfoms_quids[platform]), reverse=True):\n",
        "    print(platform, len(Map_Platfoms_quids[platform]))\n",
        "\n",
        "save_obj(Map_Platfoms_quids, \"Map_Platfoms_quids\")\n"
      ]
    },
    {
      "cell_type": "code",
      "execution_count": null,
      "metadata": {
        "colab": {
          "base_uri": "https://localhost:8080/",
          "height": 644
        },
        "id": "NriWtuSSd6uk",
        "outputId": "888620fe-a9b6-4440-c071-460ce3a47982"
      },
      "outputs": [],
      "source": [
        "SAMPLING = '3MS'\n",
        "file_name = os.path.join(ROOT_dir, \"Output\", \"platform_evolution.csv\")\n",
        "fig_file_name = os.path.join(ROOT_dir, \"Output\", \"platform_absolute_impact.png\")\n",
        "\n",
        "df = get_initial_df()\n",
        "count = 0\n",
        "for platform in sorted(Map_Platfoms_quids, key = lambda topic: len(Map_Platfoms_quids[topic]), reverse=True):\n",
        "    qids = Map_Platfoms_quids[platform]\n",
        "    print(platform, len(qids))\n",
        "    df_cat = All_Questions_df[All_Questions_df['Id'].astype(int).isin(qids)]\n",
        "    # print(\"%s ==========> %d\" % (topic, len(df_cat)))\n",
        "    # df_cat = Map_cat_ques_df['Customization']\n",
        "    df_cat.CreationDate = df_cat.CreationDate.apply(pd.to_datetime)\n",
        "    df_cat = df_cat.append(pd.Series(data=[DUMMY_DATE], index = ['CreationDate']), ignore_index=True)\n",
        "    df_cat = df_cat.resample(SAMPLING, on='CreationDate').count()[[\"Id\"]]\n",
        "    df_cat.columns = [platform]\n",
        "    df = df.merge(df_cat, how='left', on='CreationDate', validate='one_to_one')\n",
        "\n",
        "# df.to_csv(file_name, quotechar='\"', quoting=csv.QUOTE_NONNUMERIC)\n",
        "plot_dataframe(df, fig_file_name)\n",
        "    # break"
      ]
    },
    {
      "cell_type": "markdown",
      "metadata": {
        "id": "zS_I1Jyw0_Ul"
      },
      "source": [
        "### Relative impact"
      ]
    },
    {
      "cell_type": "code",
      "execution_count": null,
      "metadata": {
        "colab": {
          "base_uri": "https://localhost:8080/",
          "height": 527
        },
        "id": "7UFvCV4_4e7u",
        "outputId": "cddc665b-640d-453c-e4db-88b9630418dd"
      },
      "outputs": [],
      "source": [
        "df_all_relative = df_all_absolute.copy(deep=True)\n",
        "for high_cat in High_cats:\n",
        "    df_all_relative[high_cat] = df_all_relative[high_cat] / df_all_relative['All']\n",
        "# print(df_all_relative.head())\n",
        "\n",
        "\n",
        "file_name = os.path.join(ROOT_dir, \"Output\", \"Topic_relative_impact.png\")\n",
        "\n",
        "ax = df_all_relative.drop(columns='All').plot(figsize=(10,6))\n",
        "ax.xaxis.label.set_visible(False)\n",
        "# plt.xlabel('Time')\n",
        "plt.ylabel('# of Questions')\n",
        "\n",
        "y_labels = [ str(i)+\"%\" for i in range(0, 51, 10)]\n",
        "labels = [x.strftime(\"%b, %Y\") for x in df_all_relative.index]\n",
        "print(type(labels[0]))\n",
        "print(labels)\n",
        "ax.set_xticks(labels)\n",
        "ax.set_xticklabels(labels, rotation=90)\n",
        "# ax.set_yticks(y_labels)\n",
        "ax.set_yticklabels(y_labels)\n",
        "\n",
        "\n",
        "\n",
        "ax.spines['top'].set_visible(False)\n",
        "ax.spines['right'].set_visible(False)\n",
        "# plt.grid()\n",
        "plt.savefig(file_name, dpi=1000, bbox_inches = \"tight\")\n",
        "plt.show()"
      ]
    },
    {
      "cell_type": "code",
      "execution_count": null,
      "metadata": {
        "colab": {
          "base_uri": "https://localhost:8080/"
        },
        "id": "dqHn-Zet1EUZ",
        "outputId": "bf6801f0-cca2-4cec-d2cf-c0d19d2c6494"
      },
      "outputs": [],
      "source": [
        "print(len(All_Questions_df))"
      ]
    },
    {
      "cell_type": "markdown",
      "metadata": {
        "id": "M2xW-yemfnHD"
      },
      "source": [
        "## RQ: Popularity difficulty"
      ]
    },
    {
      "cell_type": "code",
      "execution_count": null,
      "metadata": {
        "colab": {
          "base_uri": "https://localhost:8080/"
        },
        "id": "JORuNebWnbCO",
        "outputId": "6b260d4a-37a1-436e-c06a-b0811e439069"
      },
      "outputs": [],
      "source": [
        "class Info:\n",
        "    def __init__(self):\n",
        "        self.view = 0.0\n",
        "        self.favorite = 0.0\n",
        "        self.score = 0.0\n",
        "        self.viewN = 0.0\n",
        "        self.favoriteN = 0.0\n",
        "        self.scoreN = 0.0\n",
        "        self.fusedP = 0.0\n",
        "    def __str__(self):\n",
        "        return (\"View: %.2f, Favorite: %.2f, Score: %.2f, ViewN: %.2f, FavoriteN: %.2f, ScoreN: %.2f, FusedP: %.2f\" \n",
        "              % ( self.view, self.favorite,  self.score, self.viewN,  self.favoriteN, self.scoreN, self.fusedP))\n",
        "\n",
        "class InfoD:\n",
        "    def __init__(self):\n",
        "        self.pct_qwo_acc = 0.0\n",
        "        self.med_hours = 0.0\n",
        "\n",
        "        self.pct_qwo_accN = 0.0\n",
        "        self.med_hoursN = 0.0\n",
        "        self.fusedD = 0.0\n",
        "    def __str__(self):\n",
        "        return (\"pct_qwo_acc: %.2f, med_hours: %.2f, pct_qwo_accN: %.2f, med_hours: %.2f, fusedD: %.2f\" \n",
        "              % ( self.pct_qwo_acc, self.med_hours,  self.pct_qwo_accN, self.med_hoursN,  self.fusedD))"
      ]
    },
    {
      "cell_type": "code",
      "execution_count": null,
      "metadata": {
        "colab": {
          "base_uri": "https://localhost:8080/"
        },
        "id": "VfSQggR155tD",
        "outputId": "2d4a946b-1238-437a-90e7-539a55d292b6"
      },
      "outputs": [],
      "source": [
        "a = Info()\n",
        "a.view = 5\n",
        "b = Info ()\n",
        "b.view = 10\n",
        "\n",
        "print(a)\n",
        "# print(a.view, b.view)"
      ]
    },
    {
      "cell_type": "markdown",
      "metadata": {
        "id": "6fLLRIW4j_4c"
      },
      "source": [
        "### Popularity"
      ]
    },
    {
      "cell_type": "code",
      "execution_count": null,
      "metadata": {
        "id": "tQJdm6Qnj_Td"
      },
      "outputs": [],
      "source": [
        "View_mean_sum = 0\n",
        "Favorite_mean_sum = 0\n",
        "Score_mean_sum = 0\n",
        "Map_topic_pop_diff = {}\n",
        "for topic in MAP_merged_tm_quid:\n",
        "    quids = MAP_merged_tm_quid[topic]\n",
        "    # print(quids)\n",
        "    # print(type(quids[0]))\n",
        "    df = DF_question_nss_final_tag[DF_question_nss_final_tag['Id'].astype(int).isin(quids)]\n",
        "    # print(len(df))\n",
        "\n",
        "    info = Info()\n",
        "    info.view = round(pd.to_numeric(df['ViewCount']).fillna(0).astype(int).mean(), 1)\n",
        "    info.favorite =  round(pd.to_numeric(df['FavoriteCount']).fillna(0).astype(int).mean(), 1)\n",
        "    info.score =  round(pd.to_numeric(df['Score']).fillna(0).astype(int).mean(), 1)\n",
        "    # print(info)\n",
        "    View_mean_sum += info.view\n",
        "    Favorite_mean_sum += info.favorite\n",
        "    Score_mean_sum += info.score\n",
        "\n",
        "    Map_topic_pop_diff[topic] = info\n",
        "    assert len(quids) == len(df)\n",
        "    # break\n",
        "print(\"view_sum: %.2f favorite_sum: %.2f score_sum: %.2f\" % (View_mean_sum, Favorite_mean_sum, Score_mean_sum))\n",
        "\n",
        "for topic in MAP_merged_tm_quid:\n",
        "    info = Map_topic_pop_diff[topic]\n",
        "    info.viewN = info.view * 40.0 / View_mean_sum\n",
        "    info.favoriteN = info.favorite * 40.0 / Favorite_mean_sum\n",
        "    info.scoreN = info.score * 40.0 / Score_mean_sum\n",
        "    info.fusedP = round((info.viewN + info.favoriteN + info.scoreN) / 3.0, 2)\n",
        "\n",
        "# for topic in MAP_merged_tm_quid:\n",
        "#     print(Map_topic_pop_diff[topic])\n",
        "\n",
        "for key in sorted(Map_topic_pop_diff, key = lambda topic: Map_topic_pop_diff[topic].fusedP, reverse=True):\n",
        "    print(Map_topic_pop_diff[key])\n",
        "save_obj(Map_topic_pop_diff, \"Map_topic_pop_diff\")"
      ]
    },
    {
      "cell_type": "markdown",
      "metadata": {
        "id": "L8LboNkS1AQ_"
      },
      "source": [
        "#### Generate topic popularity table"
      ]
    },
    {
      "cell_type": "code",
      "execution_count": null,
      "metadata": {
        "colab": {
          "base_uri": "https://localhost:8080/"
        },
        "id": "BJ64two8PQnS",
        "outputId": "873520fa-1f11-4837-88f7-0d82753aca40"
      },
      "outputs": [],
      "source": [
        "def get_high_cat(topic):\n",
        "    for tm in TMs:\n",
        "        if tm.name == topic:\n",
        "            return tm.high_cat\n",
        "    return None"
      ]
    },
    {
      "cell_type": "code",
      "execution_count": null,
      "metadata": {
        "id": "isoREvUS0NqC"
      },
      "outputs": [],
      "source": [
        "DF_pop = pd.DataFrame()\n",
        "\n",
        "topics = []\n",
        "categories = []\n",
        "fusedPs = []\n",
        "scores = []\n",
        "favorites = []\n",
        "views = []\n",
        "\n",
        "\n",
        "\n",
        "for key in sorted(Map_topic_pop_diff, key = lambda topic: Map_topic_pop_diff[topic].fusedP, reverse=True):\n",
        "    info = Map_topic_pop_diff[key]\n",
        "    topics.append(key)\n",
        "    categories.append(get_high_cat(key))\n",
        "    fusedPs.append(info.fusedP)\n",
        "    views.append(info.view)\n",
        "    favorites.append(info.favorite)\n",
        "    scores.append(info.score)\n",
        "\n",
        "\n",
        "\n",
        "DF_pop['Topic'] = topics\n",
        "DF_pop['Category'] = categories\n",
        "DF_pop['FusedP'] = fusedPs\n",
        "DF_pop['#View'] = views\n",
        "DF_pop['#Favorite'] = favorites\n",
        "DF_pop['#Score'] = scores\n",
        "\n",
        "print(df_pop)\n",
        "save_obj(DF_pop, \"DF_pop\")\n",
        "file_name = os.path.join(ROOT_dir, \"output\", \"Topic_popularity.csv\")\n",
        "save_df(DF_pop, file_name=file_name)"
      ]
    },
    {
      "cell_type": "code",
      "execution_count": null,
      "metadata": {
        "colab": {
          "base_uri": "https://localhost:8080/"
        },
        "id": "lnEw9lqTf9AK",
        "outputId": "7cc9f4ae-5794-4d52-dbdf-4ed963f1a444"
      },
      "outputs": [],
      "source": [
        "TMs[0].name\n"
      ]
    },
    {
      "cell_type": "markdown",
      "metadata": {
        "id": "3EdAYm84uvrR"
      },
      "source": [
        "### Difficulty"
      ]
    },
    {
      "cell_type": "code",
      "execution_count": null,
      "metadata": {
        "colab": {
          "base_uri": "https://localhost:8080/"
        },
        "id": "Fn_1n2ffIsk9",
        "outputId": "62dc2075-baaa-4cb6-dfba-0dac0521ac7c"
      },
      "outputs": [],
      "source": [
        "Map_topic_diff = {}\n",
        "# for topic in MAP_merged_tm_quid:\n",
        "#     Map_topic_diff[topic] = InfoD()"
      ]
    },
    {
      "cell_type": "code",
      "execution_count": null,
      "metadata": {
        "colab": {
          "base_uri": "https://localhost:8080/"
        },
        "id": "CMvXsEG10DQs",
        "outputId": "1e986260-f308-4cfc-87d1-8f22c3c1db1e"
      },
      "outputs": [],
      "source": [
        "def get_acc_time(ques_id):\n",
        "    question = DF_question_nss_final_tag[DF_question_nss_final_tag.Id == str(ques_id)].iloc[0]\n",
        "    # print(type(question))\n",
        "    question_time = pd.to_datetime(question.CreationDate)\n",
        "    # print(type(question_time))\n",
        "    # print(\"question_time: %s\" % (question_time) )\n",
        "    answer_id = question['AcceptedAnswerId']\n",
        "    answer = DF_answer_nss_final_tag[DF_answer_nss_final_tag.Id == str(answer_id)].iloc[0]\n",
        "    answer_time = pd.to_datetime(answer.CreationDate)\n",
        "    # print(\"answer_time: %s\" % (answer_time) )\n",
        "    time_taken = (answer_time - question_time) / (pd.Timedelta(hours=1))\n",
        "    # print(time_taken)\n",
        "    return time_taken\n",
        "\n",
        "    # print(question_time, answer_time, time_taken)\n",
        "\n",
        "\n",
        "print(get_acc_time(22940521))"
      ]
    },
    {
      "cell_type": "markdown",
      "metadata": {
        "id": "MF_scCwg1KCT"
      },
      "source": [
        "#### Generate topic difficulty table"
      ]
    },
    {
      "cell_type": "markdown",
      "metadata": {
        "id": "nheCP2iVIcct"
      },
      "source": [
        "Get questions ids with acc"
      ]
    },
    {
      "cell_type": "code",
      "execution_count": null,
      "metadata": {
        "colab": {
          "base_uri": "https://localhost:8080/"
        },
        "id": "rIvRwhpPvhHq",
        "outputId": "41fe57c5-4b68-4152-8566-3bc8ede0c0d9"
      },
      "outputs": [],
      "source": [
        "df_ques_acc = DF_question_nss_final_tag[DF_question_nss_final_tag['AcceptedAnswerId'].astype(str).str.len() > 0]\n",
        "print(len(df_ques_acc))\n",
        "set_ques_acc_ids = set(df_ques_acc['Id'].tolist())\n",
        "# DF_question_nss_final_tag.dtypes"
      ]
    },
    {
      "cell_type": "code",
      "execution_count": null,
      "metadata": {
        "id": "Wr1A8ixoFjZq"
      },
      "outputs": [],
      "source": [
        "import statistics\n",
        "\n",
        "pct_qwo_acc_sum = 0.0\n",
        "med_hours_sum = 0.0\n",
        "\n",
        "for topic in MAP_merged_tm_quid:\n",
        "    quids = MAP_merged_tm_quid[topic]\n",
        "\n",
        "    time_taken_list = []\n",
        "    acc_count = 0\n",
        "    for q in quids:\n",
        "        q = str(q)\n",
        "        # print(q)\n",
        "        # print(type(q))\n",
        "        if str(q) in set_ques_acc_ids:\n",
        "            acc_count += 1\n",
        "            time = get_acc_time(q)\n",
        "            time_taken_list.append(time)\n",
        "            # print(time)\n",
        "            # break\n",
        "    info = InfoD() \n",
        "\n",
        "    info.pct_qwo_acc = round(((len(quids) - acc_count)) * 100.0 / len(quids), 0)\n",
        "    info.med_hours = statistics.median(time_taken_list)\n",
        "    pct_qwo_acc_sum += info.pct_qwo_acc\n",
        "    med_hours_sum += info.med_hours\n",
        "\n",
        "    Map_topic_diff[topic] = info\n",
        "    # print(info)\n",
        "\n",
        "    # break\n",
        "\n",
        "for topic in MAP_merged_tm_quid:\n",
        "    info = Map_topic_diff[topic]\n",
        "    info.pct_qwo_accN = info.pct_qwo_acc * 40.0 / pct_qwo_acc_sum\n",
        "    info.med_hoursN = info.med_hours * 40.0 / med_hours_sum\n",
        "    # info.scoreN = info.score * 40.0 / Score_mean_sum\n",
        "    info.fusedD = round((info.pct_qwo_accN + info.med_hoursN) / 2.0, 2)\n",
        "\n",
        "for key in sorted(Map_topic_diff, key = lambda topic: Map_topic_diff[topic].fusedD, reverse=True):\n",
        "    print(Map_topic_diff[key])\n",
        "save_obj(Map_topic_diff, \"Map_topic_diff\")"
      ]
    },
    {
      "cell_type": "code",
      "execution_count": null,
      "metadata": {
        "colab": {
          "base_uri": "https://localhost:8080/"
        },
        "id": "OQ-KK3YUTPMb",
        "outputId": "7da1a4ae-f164-4a92-abdb-4510d5aa3500"
      },
      "outputs": [],
      "source": [
        "DF_diff = pd.DataFrame()\n",
        "\n",
        "topics = []\n",
        "categories = []\n",
        "fusedDs = []\n",
        "pct_qwo_acc_list = []\n",
        "med_hours_list = []\n",
        "\n",
        "\n",
        "\n",
        "\n",
        "for key in sorted(Map_topic_diff, key = lambda topic: Map_topic_diff[topic].fusedD, reverse=True):\n",
        "    print(Map_topic_diff[key])\n",
        "    info = Map_topic_diff[key]\n",
        "    topics.append(key)\n",
        "    categories.append(get_high_cat(key))\n",
        "\n",
        "    fusedDs.append(info.fusedD)\n",
        "    med_hours_list.append(info.med_hours)\n",
        "    pct_qwo_acc_list.append(info.pct_qwo_acc)\n",
        "    # favorites.append(info.favorite)\n",
        "    # scores.append(info.score)\n",
        "\n",
        "\n",
        "\n",
        "DF_diff['Topic'] = topics\n",
        "DF_diff['Category'] = categories\n",
        "DF_diff['FusedD'] = fusedDs\n",
        "DF_diff['Med Hrs. to Acc'] = med_hours_list\n",
        "DF_diff['W/O Acc.'] = pct_qwo_acc_list\n",
        "\n",
        "\n",
        "# print(DF_diff)\n",
        "save_obj(DF_diff, \"DF_diff\")\n",
        "file_name = os.path.join(ROOT_dir, \"output\", \"Topic_difficulty.csv\")\n",
        "save_df(DF_diff, file_name=file_name)"
      ]
    },
    {
      "cell_type": "markdown",
      "metadata": {
        "id": "8VfhZIs_YlwN"
      },
      "source": [
        "### Statistical significant"
      ]
    },
    {
      "cell_type": "code",
      "execution_count": null,
      "metadata": {
        "colab": {
          "base_uri": "https://localhost:8080/"
        },
        "id": "g2vubJxwaPUi",
        "outputId": "fe352117-f4c7-4c37-d7d4-3eed5e19bf43"
      },
      "outputs": [],
      "source": [
        "import scipy.stats as stats\n",
        "\n",
        "Map_pop = {'view': [], 'favorite': [], 'score': []}\n",
        "Map_diff = {'pct_wo_acc': [], 'med_hours': []}\n",
        "\n",
        "for topic in MAP_merged_tm_quid:\n",
        "    infoP = Map_topic_pop_diff[topic]\n",
        "    infoD = Map_topic_diff[topic]\n",
        "    Map_pop['view'].append(infoP.viewN)\n",
        "    Map_pop['favorite'].append(infoP.favoriteN)\n",
        "    Map_pop['score'].append(infoP.scoreN)\n",
        "\n",
        "    Map_diff['pct_wo_acc'].append(infoD.pct_qwo_accN)\n",
        "    Map_diff['med_hours'].append(infoD.med_hoursN)\n",
        "\n",
        "for diff in Map_diff:\n",
        "    for pop in Map_pop:\n",
        "        X1 = Map_pop[pop]\n",
        "        X2 = Map_diff[diff]\n",
        "        tau, p_value = stats.kendalltau(X1, X2)\n",
        "        issig = False\n",
        "        if p_value <= 0.05:\n",
        "            issig = True\n",
        "        print (\"%s => %s: %.2f/%.5f %s\" % (pop, diff, tau, p_value, issig))\n",
        "\n",
        "print(\"# \" * 15)\n",
        "\n",
        "for diff in Map_diff:\n",
        "    for pop in Map_pop:\n",
        "        X1 = Map_pop[pop]\n",
        "        X2 = Map_diff[diff]\n",
        "        tau, p_value = stats.kendalltau(X1, X2)\n",
        "        issig = False\n",
        "        if p_value <= 0.05:\n",
        "            issig = True\n",
        "        print (\"%.2f/%.2f & \" % ( tau, p_value), end=\"\")\n",
        "    print()"
      ]
    },
    {
      "cell_type": "markdown",
      "metadata": {
        "id": "np_XyKZLout7"
      },
      "source": [
        "### Bubble charts"
      ]
    },
    {
      "cell_type": "code",
      "execution_count": null,
      "metadata": {
        "id": "25J_AsOopc4w"
      },
      "outputs": [],
      "source": [
        "topics = []\n",
        "total_questions = []\n",
        "fusedP = []\n",
        "fusedD = []\n",
        "for topic in MAP_merged_tm_quid:\n",
        "    topics.append(topic)\n",
        "    total_questions.append(len(MAP_merged_tm_quid[topic]))\n",
        "    fusedP.append(Map_topic_pop_diff[topic].fusedP)\n",
        "    fusedD.append(Map_topic_diff[topic].fusedD)\n",
        "\n",
        "df_topic_bubble = pd.DataFrame()\n",
        "df_topic_bubble['topics'] = topics\n",
        "df_topic_bubble['total_questions'] = total_questions\n",
        "df_topic_bubble['fusedP'] = fusedP\n",
        "df_topic_bubble['fusedD'] = fusedD\n",
        "print(df_topic_bubble)\n",
        "file_name = os.path.join(ROOT_dir, \"output\", \"topic_bubble.csv\")\n",
        "save_df(df_topic_bubble, file_name)\n",
        "save_obj(df_topic_bubble, \"df_topic_bubble\")"
      ]
    },
    {
      "cell_type": "code",
      "execution_count": null,
      "metadata": {
        "colab": {
          "base_uri": "https://localhost:8080/"
        },
        "id": "uh7dKGOFoyVi",
        "outputId": "df83ace7-d5bd-414b-dee8-8bd46c062137"
      },
      "outputs": [],
      "source": [
        "categories = []\n",
        "total_questions = []\n",
        "fusedP = []\n",
        "fusedD = []\n",
        "for cat in Map_cat_topic:\n",
        "    categories.append(cat)\n",
        "    q_total = 0\n",
        "    fusedP_total = 0\n",
        "    fusedD_total = 0\n",
        "    for tm in Map_cat_topic[cat]:\n",
        "        # print(tm.name)\n",
        "        q_total += len(Map_cat_ques[cat])\n",
        "        fusedP_total += Map_topic_pop_diff[tm.name].fusedP\n",
        "        fusedD_total += Map_topic_diff[tm.name].fusedD\n",
        "    total_questions.append(q_total)\n",
        "    fusedP.append(fusedP_total)\n",
        "    fusedD.append(fusedD_total)\n",
        "\n",
        "df_cat_bubble = pd.DataFrame()\n",
        "df_cat_bubble['Categories'] = categories\n",
        "df_cat_bubble['total_questions'] = total_questions\n",
        "df_cat_bubble['fusedP'] = fusedP\n",
        "df_cat_bubble['fusedD'] = fusedD\n",
        "print(df_cat_bubble)\n",
        "file_name = os.path.join(ROOT_dir, \"output\", \"category_bubble.csv\")\n",
        "save_df(df_cat_bubble, file_name)\n",
        "save_obj(df_cat_bubble, \"df_cat_bubble\")\n",
        "\n"
      ]
    },
    {
      "cell_type": "markdown",
      "metadata": {
        "id": "Kqmlzekx2mhf"
      },
      "source": [
        "### Table of topic stats\n"
      ]
    },
    {
      "cell_type": "code",
      "execution_count": null,
      "metadata": {
        "colab": {
          "base_uri": "https://localhost:8080/"
        },
        "id": "RFCblRWX2qoV",
        "outputId": "8acfd242-0569-4942-c0f1-131c8ab7828d"
      },
      "outputs": [],
      "source": [
        "df_topic_stat = pd.DataFrame()\n",
        "topics = []\n",
        "num_ques = []\n",
        "num_ans = []\n",
        "for topic in MAP_merged_tm_quid:\n",
        "    topics.append(topic)\n",
        "    num_ques.append(len(MAP_merged_tm_quid[topic]))\n",
        "    num_ans.append(len(MAP_merged_tm_ansid[topic]))\n",
        "    # print(topic)\n",
        "\n",
        "df_topic_stat['Topic'] = topics\n",
        "df_topic_stat['#Question'] = num_ques\n",
        "df_topic_stat['#Answer'] = num_ans\n",
        "\n",
        "file_name = os.path.join(ROOT_dir, \"output\", \"topic_stats.csv\")\n",
        "save_df(df_topic_stat, file_name)\n",
        "save_obj(df_topic_stat, \"df_topic_stat\")\n",
        "print(len(df_topic_stat))\n"
      ]
    },
    {
      "cell_type": "markdown",
      "metadata": {
        "id": "ndHXaOxaCIvj"
      },
      "source": [
        "## RQ types of questions\n"
      ]
    },
    {
      "cell_type": "code",
      "execution_count": null,
      "metadata": {
        "colab": {
          "base_uri": "https://localhost:8080/"
        },
        "id": "UruoDsA3CLs2",
        "outputId": "4a1a0f37-eff2-44c3-95dd-d0ef71ed7ee3"
      },
      "outputs": [],
      "source": [
        "File_annotation = os.path.join(ROOT_dir, \"dataset\", \"RQ_annotation.csv\")"
      ]
    },
    {
      "cell_type": "markdown",
      "metadata": {
        "id": "ZNEcl5qbCUF1"
      },
      "source": [
        "### Labeling file"
      ]
    },
    {
      "cell_type": "code",
      "execution_count": null,
      "metadata": {
        "colab": {
          "base_uri": "https://localhost:8080/"
        },
        "id": "8Zt-ylUsCXyS",
        "outputId": "4e066065-c326-4d49-d89a-ffb163da8bbc"
      },
      "outputs": [],
      "source": [
        "df_rq_annotation = pd.read_csv(File_annotation).fillna(\"\")\n",
        "print(len(df_rq_annotation))"
      ]
    },
    {
      "cell_type": "markdown",
      "metadata": {
        "id": "2LYCsl4R_m5c"
      },
      "source": [
        "### Category => type of questions"
      ]
    },
    {
      "cell_type": "code",
      "execution_count": null,
      "metadata": {
        "colab": {
          "base_uri": "https://localhost:8080/"
        },
        "id": "Nt-DS_bvCu3S",
        "outputId": "cbdab0a8-83bf-4a97-9631-1f587004a614"
      },
      "outputs": [],
      "source": [
        "def print_map(map_tmp):\n",
        "    print(map_tmp)\n",
        "    total = 0\n",
        "    for qtype in map_tmp:\n",
        "        total += map_tmp[qtype]\n",
        "\n",
        "    for qtype in map_tmp:\n",
        "        pct =  round(map_tmp[qtype] * 100.0 / total, 1)\n",
        "        print(\"Type: %s pct: %.1f\" % (qtype, pct))\n",
        "    for qtype in map_tmp:\n",
        "        pct =  round(map_tmp[qtype] * 100.0 / total, 1)\n",
        "        print(\" %.1f\\%% & \" % (pct), end=\"\")\n",
        "    print()\n",
        "\n",
        "Map_type_to_question = {'How': 0,  \"What\": 0, \"Why\": 0, \"Others\": 0}\n",
        "Map_cat_to_type = {}\n",
        "for high_cat in High_cats:\n",
        "    Map_cat_to_type[high_cat] = 0\n",
        "    ques_ids = Map_sample[high_cat]\n",
        "    map_tmp = {'How': 0,  \"What\": 0, \"Why\": 0, \"Others\": 0}\n",
        "    for quid in ques_ids:\n",
        "        label = df_rq_annotation[df_rq_annotation['Id'] == quid].iloc[0]\n",
        "        type1 = label.Type\n",
        "        type2 = label.Type2\n",
        "        # print(type1)\n",
        "        # print(type(type1))\n",
        "        Map_type_to_question[type1] = Map_type_to_question[type1] + 1\n",
        "        map_tmp[type1] = map_tmp[type1] + 1\n",
        "        # print(type2)\n",
        "        if(len(type2) > 2):\n",
        "            Map_type_to_question[type2] = Map_type_to_question[type2] + 1\n",
        "            map_tmp[type2] = map_tmp[type2] + 1\n",
        "\n",
        "    #     print(label.Type)\n",
        "    \n",
        "    print(\"Category: %s and %s\" % (high_cat, map_tmp))\n",
        "    print_map(map_tmp)\n",
        "    print(\"#\" * 10)\n",
        "    # break\n",
        "# print(Map_type_to_question)\n",
        "\n",
        "print_map(Map_type_to_question)\n",
        "\n",
        "# total = 0\n",
        "# for qtype in Map_type_to_question:\n",
        "#     total += Map_type_to_question[qtype]\n",
        "\n",
        "# for qtype in Map_type_to_question:\n",
        "#     pct =  round(Map_type_to_question[qtype] * 100.0 / total, 0)\n",
        "#     print(\"Type: %s pct: %.1f\" % (qtype, pct))\n",
        "\n",
        "# save_obj(Map_question_type, \"Map_question_type\")"
      ]
    },
    {
      "cell_type": "markdown",
      "metadata": {
        "id": "RjF3B-1srxyx"
      },
      "source": [
        "## RQ SDLC"
      ]
    },
    {
      "cell_type": "code",
      "execution_count": null,
      "metadata": {
        "colab": {
          "base_uri": "https://localhost:8080/"
        },
        "id": "xkUdnwDEsAzP",
        "outputId": "ed10fda7-e941-436e-ef98-ab3a3b0d9159"
      },
      "outputs": [],
      "source": [
        "File_annotation = os.path.join(ROOT_dir, \"dataset\", \"RQ_annotation.csv\")\n",
        "SDLC_phases = [\"Requirement Analysis & Planning\", \"Application Design\", \"Implementation\", \"Testing\", \"Deployment\", \"Maintenance\"]"
      ]
    },
    {
      "cell_type": "markdown",
      "metadata": {
        "id": "6qLk3WJLsB3J"
      },
      "source": [
        "Read annotation file"
      ]
    },
    {
      "cell_type": "code",
      "execution_count": null,
      "metadata": {
        "colab": {
          "base_uri": "https://localhost:8080/"
        },
        "id": "rpHCRL_DsDuY",
        "outputId": "2283476b-e8f9-4d0f-bdec-d01e8f836019"
      },
      "outputs": [],
      "source": [
        "df_rq_annotation = pd.read_csv(File_annotation).fillna(\"\")\n",
        "print(len(df_rq_annotation))\n",
        "df_SDLC = df_rq_annotation[['Id', 'SDLC']]\n",
        "df_SDLC_type = df_rq_annotation[['Id', 'SDLC', 'Type', 'Type2']]"
      ]
    },
    {
      "cell_type": "markdown",
      "metadata": {
        "id": "tW_b3n-ZsNii"
      },
      "source": [
        "### SDLC stats"
      ]
    },
    {
      "cell_type": "code",
      "execution_count": null,
      "metadata": {
        "colab": {
          "base_uri": "https://localhost:8080/"
        },
        "id": "VdS44jeFuFLa",
        "outputId": "3dba545f-c398-493c-bace-02941ed58137"
      },
      "outputs": [],
      "source": [
        "dist = df_SDLC['SDLC'].value_counts(normalize=True)\n",
        "print(type(dist))\n",
        "print(dist)"
      ]
    },
    {
      "cell_type": "code",
      "execution_count": null,
      "metadata": {
        "colab": {
          "base_uri": "https://localhost:8080/"
        },
        "id": "oanZtvj9GP7P",
        "outputId": "b7bc2127-bdf6-4da3-b26f-83a93e6c850a"
      },
      "outputs": [],
      "source": [
        "dist = df_SDLC['SDLC'].value_counts()\n",
        "print(type(dist))\n",
        "print(dist)"
      ]
    },
    {
      "cell_type": "markdown",
      "metadata": {
        "id": "DBX0rRFAzMGH"
      },
      "source": [
        "### SDLC => Type"
      ]
    },
    {
      "cell_type": "code",
      "execution_count": null,
      "metadata": {
        "colab": {
          "base_uri": "https://localhost:8080/"
        },
        "id": "B_Fb2Rm4sPzO",
        "outputId": "0e8ac8d1-d6c4-4547-b97c-42a1dd28c20e"
      },
      "outputs": [],
      "source": [
        "def get_stat_SDLC_type(df, label):\n",
        "    # print(len(df))\n",
        "    total = len(df)\n",
        "    s1 = df['Type'].value_counts()\n",
        "    s2 = df['Type2'].dropna().value_counts()\n",
        "    how_count = s1['How']\n",
        "    if \"How\" in s2:\n",
        "        how_count += s2['How']\n",
        "    what_count = s1['What']\n",
        "    if \"What\" in s2:\n",
        "        what_count += s2['What']\n",
        "    why_count = s1['Why'] \n",
        "    if \"Why\" in s2:\n",
        "        why_count += s2['Why']\n",
        "    other_count = s1['Others']\n",
        "    if \"Others\" in s2:\n",
        "        other_count += s2['Others']\n",
        "    # print(other_count)\n",
        "\n",
        "    total_pct = round(total * 100.0/471, 0)\n",
        "    how_pct = round(how_count * 100.0/total, 0)\n",
        "    what_pct = round(what_count * 100.0/total, 0)\n",
        "    why_pct = round(why_count * 100.0/total, 0)\n",
        "    other_pct = round(other_count * 100.0/total, 0)\n",
        "\n",
        "    print(\"%s(%.0f\\\\%%) & %.0f\\\\%% & %.0f\\\\%% & %.0f\\\\%% & %.0f\\\\%% \\\\\\\\\" % (label, total_pct, how_pct, what_pct, why_pct, other_pct))\n",
        "\n",
        "\n",
        "for phase in SDLC_phases:\n",
        "    df = df_SDLC_type[df_SDLC_type['SDLC'] == phase]\n",
        "    get_stat_SDLC_type(df, phase)\n",
        "# print(type(df))\n",
        "# print(len(df))\n",
        "# print(df.sample)\n",
        "# get_stat_SDLC_type(df, \"Requirement\")"
      ]
    },
    {
      "cell_type": "markdown",
      "metadata": {
        "id": "pUD_l3m__eHE"
      },
      "source": [
        "### Category => SDLC"
      ]
    },
    {
      "cell_type": "markdown",
      "metadata": {
        "id": "QEiWhqBJULPB"
      },
      "source": []
    },
    {
      "cell_type": "code",
      "execution_count": null,
      "metadata": {
        "colab": {
          "base_uri": "https://localhost:8080/"
        },
        "id": "uHw_Witr_h3M",
        "outputId": "8e93c559-48da-46f2-c423-fa618dc67bfa"
      },
      "outputs": [],
      "source": [
        "def get_stat_cat_sdlc(df, label):\n",
        "    # print(len(df), label)\n",
        "    counts = df['SDLC'].value_counts()\n",
        "\n",
        "    print(\"\\\\textbf{%s} & \\\\sixbars\" % (label), end=\"\")\n",
        "    for phase in SDLC_phases:\n",
        "        val = 0\n",
        "        if phase in counts:\n",
        "            val = counts[phase]\n",
        "        print(\"{%d}\" % val, end=\"\")\n",
        "    print(\"  \\\\\\\\\", end=\"\")\n",
        "\n",
        "    print()\n",
        "\n",
        "for high_cat in High_cats:\n",
        "    Map_cat_to_type[high_cat] = 0\n",
        "    ques_ids = Map_sample[high_cat]\n",
        "    df = df_rq_annotation[df_rq_annotation[\"Id\"].isin(ques_ids)]\n",
        "    # print(len(df))\n",
        "    get_stat_cat_sdlc(df, high_cat)\n",
        "\n",
        "    # break\n",
        "    # map_tmp = {'How': 0,  \"What\": 0, \"Why\": 0, \"Others\": 0}\n",
        "    # for quid in ques_ids:\n",
        "    #     label = df_rq_annotation[df_rq_annotation['Id'] == quid].iloc[0]\n",
        "    #     type1 = label.Type\n",
        "    #     type2 = label.Type2\n",
        "    #     # print(type1)\n",
        "    #     # print(type(type1))\n",
        "    #     Map_type_to_question[type1] = Map_type_to_question[type1] + 1\n",
        "    #     map_tmp[type1] = map_tmp[type1] + 1\n",
        "    #     # print(type2)\n",
        "    #     if(len(type2) > 2):\n",
        "    #         Map_type_to_question[type2] = Map_type_to_question[type2] + 1\n",
        "    #         map_tmp[type2] = map_tmp[type2] + 1\n",
        "\n",
        "    # #     print(label.Type)\n",
        "    \n",
        "    # print(\"Category: %s and %s\" % (high_cat, map_tmp))\n",
        "    # print_map(map_tmp)\n",
        "    # print(\"#\" * 10)"
      ]
    },
    {
      "cell_type": "markdown",
      "metadata": {},
      "source": [
        "## Graph: Significance va Relevance of final tags"
      ]
    },
    {
      "cell_type": "code",
      "execution_count": null,
      "metadata": {},
      "outputs": [],
      "source": [
        "df = pd.read_csv('data/tags_stat.csv')\n",
        "df.head()\n",
        "fields = ['tags_relevant', 'tags_recommended_count']\n",
        "colors = ['#4C72B0', '#55A868']\n",
        "labels = ['Total relevant', 'Total recomended']\n",
        "\n",
        "# figure and axis\n",
        "fig, ax = plt.subplots(1, figsize=(19.20, 10.80))\n",
        "\n",
        "# plot bars\n",
        "left = len(df) * [0]\n",
        "for idx, name in enumerate(fields):\n",
        "    plt.barh(df.index, df[name], left=left, color=colors[idx], height=0.50)\n",
        "    left = left + df[name]\n",
        "\n",
        "# title, legend, labels\n",
        "plt.legend(labels, loc='upper right', frameon=False, prop={'family': 'serif'})\n",
        "\n",
        "# remove spines\n",
        "ax.spines['right'].set_visible(False)\n",
        "ax.spines['top'].set_visible(False)\n",
        "\n",
        "# Add y-axis labels\n",
        "ytick_labels = []\n",
        "for _, df_entry in df.iterrows():\n",
        "    ytick_labels.append(\n",
        "        f\"\\u03bc = {df_entry.significance}, \\u03BD = {df_entry.relevance}: {df_entry.tags_relavant_pct}%\")\n",
        "plt.yticks(np.arange(0, len(df.index)), ytick_labels)\n",
        "\n",
        "# adjust limits and draw grid lines\n",
        "plt.ylim(-0.5, ax.get_yticks()[-1] + 0.5)\n",
        "ax.set_axisbelow(True)\n",
        "\n",
        "plt.savefig('figures/significane_relevance.png', dpi=300)\n"
      ]
    },
    {
      "cell_type": "markdown",
      "metadata": {},
      "source": [
        "## Graph Genration"
      ]
    },
    {
      "cell_type": "markdown",
      "metadata": {},
      "source": [
        "### Evolution of top 10 platforms over time"
      ]
    },
    {
      "cell_type": "code",
      "execution_count": null,
      "metadata": {},
      "outputs": [],
      "source": [
        "def plot_dataframe(df, file_name, xlablel=\"Time\"):\n",
        "    ax = df.drop(columns='All').plot(figsize=(10,6))\n",
        "    ax.xaxis.label.set_visible(False)\n",
        "    plt.xlabel(xlablel)\n",
        "    plt.ylabel('# of Questions')\n",
        "    labels = [x.strftime(\"%b, %Y\") for x in df.index]\n",
        "    ax.set_xticks(labels)\n",
        "    ax.set_xticklabels(labels, rotation=90)\n",
        "    ax.spines['top'].set_visible(False)\n",
        "    ax.spines['right'].set_visible(False)\n",
        "    plt.savefig(file_name, dpi=1000, bbox_inches = \"tight\")\n",
        "    plt.show()\n",
        "\n",
        "def get_initial_df(sampling='3MS'):\n",
        "    df = all_q_df[['Id', 'CreationDate']]\n",
        "    df.CreationDate = df.CreationDate.apply(pd.to_datetime)\n",
        "    df = df.resample(sampling, on=\"CreationDate\").count()[[\"Id\"]]\n",
        "    df.columns = ['All']\n",
        "    return df\n",
        "\n",
        "SAMPLING = '4MS'\n",
        "DUMMY_DATE = pd.to_datetime('2008-8-1 18:18:37.777')\n",
        "\n",
        "df = get_initial_df(SAMPLING)\n",
        "\n",
        "count = 0\n",
        "for platform_name in top_10_plats_to_qid:\n",
        "    qids = top_10_plats_to_qid[platform_name]\n",
        "    # print(platform_name, len(qids))\n",
        "    df_cat = all_q_df[all_q_df['Id'].astype(int).isin(qids)]\n",
        "    # print(\"%s ==========> %d\" % (platform_name, len(df_cat)))\n",
        "    df_cat.CreationDate = df_cat.CreationDate.apply(pd.to_datetime)\n",
        "    df_cat = df_cat.append(pd.Series(data=[DUMMY_DATE], index = ['CreationDate']), ignore_index=True)\n",
        "    df_cat = df_cat.resample(SAMPLING, on='CreationDate').count()[[\"Id\"]]\n",
        "    df_cat.columns = [platform_name]\n",
        "    df = df.merge(df_cat, how='left', on='CreationDate', validate='one_to_one')\n",
        "\n",
        "# df.to_csv(file_name, quotechar='\"', quoting=csv.QUOTE_NONNUMERIC)\n",
        "plot_dataframe(df, 'top5platform_evolution')"
      ]
    },
    {
      "cell_type": "markdown",
      "metadata": {},
      "source": [
        "### Category Distribution in top 5 platforms"
      ]
    },
    {
      "cell_type": "code",
      "execution_count": null,
      "metadata": {},
      "outputs": [],
      "source": [
        "cat_to_qid = load_obj('map_cat_to_ques')\n",
        "\n",
        "top_5_plats_to_qid = {}\n",
        "for platform_name in sorted(plat_to_qid_df, key=lambda k: len(plat_to_qid_df[k]), reverse=True)[:5]:\n",
        "    top_5_plats_to_qid[platform_name] = plat_to_qid_df[platform_name]\n",
        "    \n",
        "# for key in top_5_plats_to_qid:\n",
        "#     print(key, len(top_5_plats_to_qid[key]))\n",
        "platforms = []\n",
        "categories = []\n",
        "questions = []\n",
        "\n",
        "for platform_name in top_5_plats_to_qid:\n",
        "    for category_name in cat_to_qid:\n",
        "        intersection = list(set(top_5_plats_to_qid[platform_name]) & set(cat_to_qid[category_name]))\n",
        "        # print(platform_name, category_name, len(intersection))\n",
        "        platforms.append(platform_name)\n",
        "        categories.append(category_name)\n",
        "        questions.append(len(intersection))\n",
        "    # print()\n",
        "\n",
        "plat_to_cat_df = pd.DataFrame()\n",
        "plat_to_cat_df['Platform'] = platforms\n",
        "plat_to_cat_df['Category'] = categories\n",
        "plat_to_cat_df['Count'] = questions\n",
        "\n",
        "file_name = os.path.join(\"output\", \"Plat_To_Cateogory_Distribution.csv\")\n",
        "save_df(plat_to_cat_df, file_name=file_name)\n",
        "\n",
        "cat_to_qid = load_obj('map_cat_to_ques')\n",
        "\n",
        "for category_name in cat_to_qid:\n",
        "    print(category_name, len(cat_to_qid[category_name]))\n",
        "\n",
        "base_q_df = load_obj('questions')\n",
        "base_q_df['Id'] = base_q_df['Id'].astype(int)\n",
        "base_ans_df = load_obj('answers')\n",
        "\n",
        "def get_acc_time(ques_id):\n",
        "    question = base_q_df[base_q_df.Id == ques_id].iloc[0]\n",
        "    # print(type(question))\n",
        "    question_time = pd.to_datetime(question.CreationDate)\n",
        "    # print(type(question_time))\n",
        "    # print(\"question_time: %s\" % (question_time) )\n",
        "    answer_id = question['AcceptedAnswerId']\n",
        "    # print(answer_id)\n",
        "    answer = base_ans_df[base_ans_df.Id == str(answer_id)].iloc[0]\n",
        "    answer_time = pd.to_datetime(answer.CreationDate)\n",
        "    # print(\"answer_time: %s\" % (answer_time) )\n",
        "    time_taken = (answer_time - question_time) / (pd.Timedelta(hours=1))\n",
        "    # print(time_taken)\n",
        "    return time_taken\n",
        "\n",
        "    # print(question_time, answer_time, time_taken)\n",
        "\n",
        "\n",
        "print(get_acc_time(22940521))\n",
        "\n",
        "df_ques_acc = base_q_df[base_q_df['AcceptedAnswerId'].astype(str).str.len() > 0]\n",
        "# print(len(df_ques_acc))\n",
        "set_ques_acc_ids = set(df_ques_acc['Id'].tolist())"
      ]
    },
    {
      "cell_type": "markdown",
      "metadata": {},
      "source": [
        "### Overall popularity and diffuculty"
      ]
    },
    {
      "cell_type": "code",
      "execution_count": null,
      "metadata": {},
      "outputs": [],
      "source": [
        "all_q_df = load_obj('questions')\n",
        "base_ans_df = load_obj('answers')\n",
        "print(\"# Posts (questions):\", len(all_q_df))\n",
        "\n",
        "avg_view = round(pd.to_numeric(all_q_df['ViewCount']).dropna().astype(int).mean(), 1)\n",
        "print(\"Avg View\", avg_view)\n",
        "\n",
        "avg_fav = round(pd.to_numeric(all_q_df['FavoriteCount']).dropna().astype(int).mean(), 1)\n",
        "print(\"Avg Favorite (droped n/a)\", avg_fav)\n",
        "avg_fav = round(pd.to_numeric(all_q_df['FavoriteCount']).fillna(0).astype(int).mean(), 1)\n",
        "print(\"Avg Favorite (filling n/a favorits with zero)\", avg_fav)\n",
        "\n",
        "avg_score = round(pd.to_numeric(all_q_df['Score']).dropna().astype(int).mean(), 1)\n",
        "print(\"Avg Score\", avg_score)\n",
        "\n",
        "import statistics\n",
        "\n",
        "time_taken_list = []\n",
        "acc_count = 0\n",
        "for _, el in all_q_df.iterrows():\n",
        "        if int(el['Id']) in set_ques_acc_ids:\n",
        "                acc_count += 1\n",
        "                time = get_acc_time(int(el['Id']))\n",
        "                time_taken_list.append(time)\n",
        "\n",
        "\n",
        "# print(acc_count)\n",
        "pct_qwo_acc = round(((len(all_q_df) - acc_count)) * 100.0 / len(all_q_df), 0)\n",
        "print(\"% W/o Acct Ans\", pct_qwo_acc)\n",
        "med_hours = statistics.median(time_taken_list)\n",
        "print(\"Med Hrs to Acc.\", med_hours)"
      ]
    },
    {
      "cell_type": "markdown",
      "metadata": {},
      "source": [
        "### Comparison of Question Types Between Different Domains"
      ]
    },
    {
      "cell_type": "code",
      "execution_count": null,
      "metadata": {},
      "outputs": [],
      "source": [
        "rq_df = pd.read_csv('data/RQ_annotation.csv')\n",
        "ss = '''\n",
        "{'How': 271, 'What': 87, 'Why': 68, 'Others': 61}\n",
        "Type: How pct: 55.6\n",
        "Type: What pct: 17.9\n",
        "Type: Why pct: 14.0\n",
        "Type: Others pct: 12.5\n",
        "'''\n",
        "print(ss)"
      ]
    }
  ],
  "metadata": {
    "colab": {
      "collapsed_sections": [
        "WGVnQm13Q2uu",
        "E-yiiFR5RYWH",
        "jXvOIBraXbOo",
        "aDvUNJLS0dFv",
        "oMV3BbeCW1hL",
        "HdGeeD4r8HGD"
      ],
      "name": "LCSD_challenges_EMSE.ipynb",
      "provenance": [],
      "toc_visible": true
    },
    "kernelspec": {
      "display_name": "Python 3",
      "name": "python3"
    },
    "language_info": {
      "name": "python"
    }
  },
  "nbformat": 4,
  "nbformat_minor": 0
}
